{
  "cells": [
    {
      "cell_type": "code",
      "execution_count": null,
      "id": "c426891e",
      "metadata": {
        "id": "c426891e"
      },
      "outputs": [],
      "source": [
        "import pandas as pd"
      ]
    },
    {
      "cell_type": "code",
      "execution_count": null,
      "id": "061db656",
      "metadata": {
        "id": "061db656"
      },
      "outputs": [],
      "source": [
        "# customer_details\n",
        "df1 = pd.read_csv('.\\customer_details.csv')\n",
        "# customer Policy details\n",
        "df2 = pd.read_csv('.\\customer_policy_details.csv')"
      ]
    },
    {
      "cell_type": "code",
      "execution_count": null,
      "id": "2d062263",
      "metadata": {
        "id": "2d062263",
        "outputId": "f1a5dc4f-9b41-43dd-b363-ac1dffd4a08a"
      },
      "outputs": [
        {
          "data": {
            "text/html": [
              "<div>\n",
              "<style scoped>\n",
              "    .dataframe tbody tr th:only-of-type {\n",
              "        vertical-align: middle;\n",
              "    }\n",
              "\n",
              "    .dataframe tbody tr th {\n",
              "        vertical-align: top;\n",
              "    }\n",
              "\n",
              "    .dataframe thead th {\n",
              "        text-align: right;\n",
              "    }\n",
              "</style>\n",
              "<table border=\"1\" class=\"dataframe\">\n",
              "  <thead>\n",
              "    <tr style=\"text-align: right;\">\n",
              "      <th></th>\n",
              "      <th>0</th>\n",
              "      <th>1</th>\n",
              "      <th>2</th>\n",
              "      <th>3</th>\n",
              "      <th>4</th>\n",
              "      <th>5</th>\n",
              "      <th>6</th>\n",
              "      <th>7</th>\n",
              "    </tr>\n",
              "  </thead>\n",
              "  <tbody>\n",
              "    <tr>\n",
              "      <th>0</th>\n",
              "      <td>1.0</td>\n",
              "      <td>Male</td>\n",
              "      <td>44.0</td>\n",
              "      <td>1.0</td>\n",
              "      <td>28.0</td>\n",
              "      <td>0.0</td>\n",
              "      <td>&gt; 2 Years</td>\n",
              "      <td>Yes</td>\n",
              "    </tr>\n",
              "    <tr>\n",
              "      <th>1</th>\n",
              "      <td>2.0</td>\n",
              "      <td>Male</td>\n",
              "      <td>76.0</td>\n",
              "      <td>1.0</td>\n",
              "      <td>3.0</td>\n",
              "      <td>0.0</td>\n",
              "      <td>1-2 Year</td>\n",
              "      <td>No</td>\n",
              "    </tr>\n",
              "    <tr>\n",
              "      <th>2</th>\n",
              "      <td>3.0</td>\n",
              "      <td>Male</td>\n",
              "      <td>47.0</td>\n",
              "      <td>1.0</td>\n",
              "      <td>28.0</td>\n",
              "      <td>0.0</td>\n",
              "      <td>&gt; 2 Years</td>\n",
              "      <td>Yes</td>\n",
              "    </tr>\n",
              "    <tr>\n",
              "      <th>3</th>\n",
              "      <td>4.0</td>\n",
              "      <td>Male</td>\n",
              "      <td>21.0</td>\n",
              "      <td>1.0</td>\n",
              "      <td>11.0</td>\n",
              "      <td>1.0</td>\n",
              "      <td>&lt; 1 Year</td>\n",
              "      <td>No</td>\n",
              "    </tr>\n",
              "    <tr>\n",
              "      <th>4</th>\n",
              "      <td>5.0</td>\n",
              "      <td>Female</td>\n",
              "      <td>29.0</td>\n",
              "      <td>1.0</td>\n",
              "      <td>41.0</td>\n",
              "      <td>1.0</td>\n",
              "      <td>&lt; 1 Year</td>\n",
              "      <td>No</td>\n",
              "    </tr>\n",
              "    <tr>\n",
              "      <th>...</th>\n",
              "      <td>...</td>\n",
              "      <td>...</td>\n",
              "      <td>...</td>\n",
              "      <td>...</td>\n",
              "      <td>...</td>\n",
              "      <td>...</td>\n",
              "      <td>...</td>\n",
              "      <td>...</td>\n",
              "    </tr>\n",
              "    <tr>\n",
              "      <th>381104</th>\n",
              "      <td>381105.0</td>\n",
              "      <td>Male</td>\n",
              "      <td>74.0</td>\n",
              "      <td>1.0</td>\n",
              "      <td>26.0</td>\n",
              "      <td>1.0</td>\n",
              "      <td>1-2 Year</td>\n",
              "      <td>No</td>\n",
              "    </tr>\n",
              "    <tr>\n",
              "      <th>381105</th>\n",
              "      <td>381106.0</td>\n",
              "      <td>Male</td>\n",
              "      <td>30.0</td>\n",
              "      <td>1.0</td>\n",
              "      <td>37.0</td>\n",
              "      <td>1.0</td>\n",
              "      <td>&lt; 1 Year</td>\n",
              "      <td>No</td>\n",
              "    </tr>\n",
              "    <tr>\n",
              "      <th>381106</th>\n",
              "      <td>381107.0</td>\n",
              "      <td>Male</td>\n",
              "      <td>21.0</td>\n",
              "      <td>1.0</td>\n",
              "      <td>30.0</td>\n",
              "      <td>1.0</td>\n",
              "      <td>&lt; 1 Year</td>\n",
              "      <td>No</td>\n",
              "    </tr>\n",
              "    <tr>\n",
              "      <th>381107</th>\n",
              "      <td>381108.0</td>\n",
              "      <td>Female</td>\n",
              "      <td>68.0</td>\n",
              "      <td>1.0</td>\n",
              "      <td>14.0</td>\n",
              "      <td>0.0</td>\n",
              "      <td>&gt; 2 Years</td>\n",
              "      <td>Yes</td>\n",
              "    </tr>\n",
              "    <tr>\n",
              "      <th>381108</th>\n",
              "      <td>381109.0</td>\n",
              "      <td>Male</td>\n",
              "      <td>46.0</td>\n",
              "      <td>1.0</td>\n",
              "      <td>29.0</td>\n",
              "      <td>0.0</td>\n",
              "      <td>1-2 Year</td>\n",
              "      <td>No</td>\n",
              "    </tr>\n",
              "  </tbody>\n",
              "</table>\n",
              "<p>381109 rows × 8 columns</p>\n",
              "</div>"
            ],
            "text/plain": [
              "               0       1     2    3     4    5          6    7\n",
              "0            1.0    Male  44.0  1.0  28.0  0.0  > 2 Years  Yes\n",
              "1            2.0    Male  76.0  1.0   3.0  0.0   1-2 Year   No\n",
              "2            3.0    Male  47.0  1.0  28.0  0.0  > 2 Years  Yes\n",
              "3            4.0    Male  21.0  1.0  11.0  1.0   < 1 Year   No\n",
              "4            5.0  Female  29.0  1.0  41.0  1.0   < 1 Year   No\n",
              "...          ...     ...   ...  ...   ...  ...        ...  ...\n",
              "381104  381105.0    Male  74.0  1.0  26.0  1.0   1-2 Year   No\n",
              "381105  381106.0    Male  30.0  1.0  37.0  1.0   < 1 Year   No\n",
              "381106  381107.0    Male  21.0  1.0  30.0  1.0   < 1 Year   No\n",
              "381107  381108.0  Female  68.0  1.0  14.0  0.0  > 2 Years  Yes\n",
              "381108  381109.0    Male  46.0  1.0  29.0  0.0   1-2 Year   No\n",
              "\n",
              "[381109 rows x 8 columns]"
            ]
          },
          "execution_count": 3,
          "metadata": {},
          "output_type": "execute_result"
        }
      ],
      "source": [
        "df1"
      ]
    },
    {
      "cell_type": "code",
      "execution_count": null,
      "id": "b5d133b1",
      "metadata": {
        "id": "b5d133b1",
        "outputId": "59bae57c-25be-4067-efc7-6627403a7038"
      },
      "outputs": [
        {
          "data": {
            "text/html": [
              "<div>\n",
              "<style scoped>\n",
              "    .dataframe tbody tr th:only-of-type {\n",
              "        vertical-align: middle;\n",
              "    }\n",
              "\n",
              "    .dataframe tbody tr th {\n",
              "        vertical-align: top;\n",
              "    }\n",
              "\n",
              "    .dataframe thead th {\n",
              "        text-align: right;\n",
              "    }\n",
              "</style>\n",
              "<table border=\"1\" class=\"dataframe\">\n",
              "  <thead>\n",
              "    <tr style=\"text-align: right;\">\n",
              "      <th></th>\n",
              "      <th>0</th>\n",
              "      <th>1</th>\n",
              "      <th>2</th>\n",
              "      <th>3</th>\n",
              "      <th>4</th>\n",
              "    </tr>\n",
              "  </thead>\n",
              "  <tbody>\n",
              "    <tr>\n",
              "      <th>0</th>\n",
              "      <td>1.0</td>\n",
              "      <td>40454.0</td>\n",
              "      <td>26.0</td>\n",
              "      <td>217.0</td>\n",
              "      <td>1.0</td>\n",
              "    </tr>\n",
              "    <tr>\n",
              "      <th>1</th>\n",
              "      <td>2.0</td>\n",
              "      <td>33536.0</td>\n",
              "      <td>26.0</td>\n",
              "      <td>183.0</td>\n",
              "      <td>0.0</td>\n",
              "    </tr>\n",
              "    <tr>\n",
              "      <th>2</th>\n",
              "      <td>3.0</td>\n",
              "      <td>38294.0</td>\n",
              "      <td>26.0</td>\n",
              "      <td>27.0</td>\n",
              "      <td>1.0</td>\n",
              "    </tr>\n",
              "    <tr>\n",
              "      <th>3</th>\n",
              "      <td>4.0</td>\n",
              "      <td>28619.0</td>\n",
              "      <td>152.0</td>\n",
              "      <td>203.0</td>\n",
              "      <td>0.0</td>\n",
              "    </tr>\n",
              "    <tr>\n",
              "      <th>4</th>\n",
              "      <td>5.0</td>\n",
              "      <td>27496.0</td>\n",
              "      <td>152.0</td>\n",
              "      <td>39.0</td>\n",
              "      <td>0.0</td>\n",
              "    </tr>\n",
              "    <tr>\n",
              "      <th>...</th>\n",
              "      <td>...</td>\n",
              "      <td>...</td>\n",
              "      <td>...</td>\n",
              "      <td>...</td>\n",
              "      <td>...</td>\n",
              "    </tr>\n",
              "    <tr>\n",
              "      <th>381104</th>\n",
              "      <td>381105.0</td>\n",
              "      <td>30170.0</td>\n",
              "      <td>26.0</td>\n",
              "      <td>88.0</td>\n",
              "      <td>0.0</td>\n",
              "    </tr>\n",
              "    <tr>\n",
              "      <th>381105</th>\n",
              "      <td>381106.0</td>\n",
              "      <td>40016.0</td>\n",
              "      <td>152.0</td>\n",
              "      <td>131.0</td>\n",
              "      <td>0.0</td>\n",
              "    </tr>\n",
              "    <tr>\n",
              "      <th>381106</th>\n",
              "      <td>381107.0</td>\n",
              "      <td>35118.0</td>\n",
              "      <td>160.0</td>\n",
              "      <td>161.0</td>\n",
              "      <td>0.0</td>\n",
              "    </tr>\n",
              "    <tr>\n",
              "      <th>381107</th>\n",
              "      <td>381108.0</td>\n",
              "      <td>44617.0</td>\n",
              "      <td>124.0</td>\n",
              "      <td>74.0</td>\n",
              "      <td>0.0</td>\n",
              "    </tr>\n",
              "    <tr>\n",
              "      <th>381108</th>\n",
              "      <td>381109.0</td>\n",
              "      <td>41777.0</td>\n",
              "      <td>26.0</td>\n",
              "      <td>237.0</td>\n",
              "      <td>0.0</td>\n",
              "    </tr>\n",
              "  </tbody>\n",
              "</table>\n",
              "<p>381109 rows × 5 columns</p>\n",
              "</div>"
            ],
            "text/plain": [
              "               0        1      2      3    4\n",
              "0            1.0  40454.0   26.0  217.0  1.0\n",
              "1            2.0  33536.0   26.0  183.0  0.0\n",
              "2            3.0  38294.0   26.0   27.0  1.0\n",
              "3            4.0  28619.0  152.0  203.0  0.0\n",
              "4            5.0  27496.0  152.0   39.0  0.0\n",
              "...          ...      ...    ...    ...  ...\n",
              "381104  381105.0  30170.0   26.0   88.0  0.0\n",
              "381105  381106.0  40016.0  152.0  131.0  0.0\n",
              "381106  381107.0  35118.0  160.0  161.0  0.0\n",
              "381107  381108.0  44617.0  124.0   74.0  0.0\n",
              "381108  381109.0  41777.0   26.0  237.0  0.0\n",
              "\n",
              "[381109 rows x 5 columns]"
            ]
          },
          "execution_count": 4,
          "metadata": {},
          "output_type": "execute_result"
        }
      ],
      "source": [
        "df2"
      ]
    },
    {
      "cell_type": "markdown",
      "id": "378e10c1",
      "metadata": {
        "id": "378e10c1"
      },
      "source": [
        "# 1. Add the column names to both datasets:\n",
        "## i. Column Name for customer details table:\n",
        "\n",
        "###           customer_id,\n",
        "\n",
        "###           Gender,\n",
        "\n",
        "###           age,\n",
        "\n",
        "###           driving licence present,\n",
        "\n",
        "###           region code,\n",
        "\n",
        "###           previously insured,\n",
        "\n",
        "###           vehicle age\n",
        "\n",
        "###           and vehicle damage, in respective order."
      ]
    },
    {
      "cell_type": "code",
      "execution_count": null,
      "id": "53dbb532",
      "metadata": {
        "id": "53dbb532"
      },
      "outputs": [],
      "source": [
        "df1.columns = ['customer_id','Gender','age','driving licence present','region code','previously insured','vehicle age','vehicle damge']"
      ]
    },
    {
      "cell_type": "code",
      "execution_count": null,
      "id": "1bd5f890",
      "metadata": {
        "id": "1bd5f890",
        "outputId": "799acf69-2f51-4f3a-d85f-d36dbb64cc0c"
      },
      "outputs": [
        {
          "data": {
            "text/html": [
              "<div>\n",
              "<style scoped>\n",
              "    .dataframe tbody tr th:only-of-type {\n",
              "        vertical-align: middle;\n",
              "    }\n",
              "\n",
              "    .dataframe tbody tr th {\n",
              "        vertical-align: top;\n",
              "    }\n",
              "\n",
              "    .dataframe thead th {\n",
              "        text-align: right;\n",
              "    }\n",
              "</style>\n",
              "<table border=\"1\" class=\"dataframe\">\n",
              "  <thead>\n",
              "    <tr style=\"text-align: right;\">\n",
              "      <th></th>\n",
              "      <th>customer_id</th>\n",
              "      <th>Gender</th>\n",
              "      <th>age</th>\n",
              "      <th>driving licence present</th>\n",
              "      <th>region code</th>\n",
              "      <th>previously insured</th>\n",
              "      <th>vehicle age</th>\n",
              "      <th>vehicle damge</th>\n",
              "    </tr>\n",
              "  </thead>\n",
              "  <tbody>\n",
              "    <tr>\n",
              "      <th>0</th>\n",
              "      <td>1.0</td>\n",
              "      <td>Male</td>\n",
              "      <td>44.0</td>\n",
              "      <td>1.0</td>\n",
              "      <td>28.0</td>\n",
              "      <td>0.0</td>\n",
              "      <td>&gt; 2 Years</td>\n",
              "      <td>Yes</td>\n",
              "    </tr>\n",
              "    <tr>\n",
              "      <th>1</th>\n",
              "      <td>2.0</td>\n",
              "      <td>Male</td>\n",
              "      <td>76.0</td>\n",
              "      <td>1.0</td>\n",
              "      <td>3.0</td>\n",
              "      <td>0.0</td>\n",
              "      <td>1-2 Year</td>\n",
              "      <td>No</td>\n",
              "    </tr>\n",
              "    <tr>\n",
              "      <th>2</th>\n",
              "      <td>3.0</td>\n",
              "      <td>Male</td>\n",
              "      <td>47.0</td>\n",
              "      <td>1.0</td>\n",
              "      <td>28.0</td>\n",
              "      <td>0.0</td>\n",
              "      <td>&gt; 2 Years</td>\n",
              "      <td>Yes</td>\n",
              "    </tr>\n",
              "    <tr>\n",
              "      <th>3</th>\n",
              "      <td>4.0</td>\n",
              "      <td>Male</td>\n",
              "      <td>21.0</td>\n",
              "      <td>1.0</td>\n",
              "      <td>11.0</td>\n",
              "      <td>1.0</td>\n",
              "      <td>&lt; 1 Year</td>\n",
              "      <td>No</td>\n",
              "    </tr>\n",
              "    <tr>\n",
              "      <th>4</th>\n",
              "      <td>5.0</td>\n",
              "      <td>Female</td>\n",
              "      <td>29.0</td>\n",
              "      <td>1.0</td>\n",
              "      <td>41.0</td>\n",
              "      <td>1.0</td>\n",
              "      <td>&lt; 1 Year</td>\n",
              "      <td>No</td>\n",
              "    </tr>\n",
              "    <tr>\n",
              "      <th>...</th>\n",
              "      <td>...</td>\n",
              "      <td>...</td>\n",
              "      <td>...</td>\n",
              "      <td>...</td>\n",
              "      <td>...</td>\n",
              "      <td>...</td>\n",
              "      <td>...</td>\n",
              "      <td>...</td>\n",
              "    </tr>\n",
              "    <tr>\n",
              "      <th>381104</th>\n",
              "      <td>381105.0</td>\n",
              "      <td>Male</td>\n",
              "      <td>74.0</td>\n",
              "      <td>1.0</td>\n",
              "      <td>26.0</td>\n",
              "      <td>1.0</td>\n",
              "      <td>1-2 Year</td>\n",
              "      <td>No</td>\n",
              "    </tr>\n",
              "    <tr>\n",
              "      <th>381105</th>\n",
              "      <td>381106.0</td>\n",
              "      <td>Male</td>\n",
              "      <td>30.0</td>\n",
              "      <td>1.0</td>\n",
              "      <td>37.0</td>\n",
              "      <td>1.0</td>\n",
              "      <td>&lt; 1 Year</td>\n",
              "      <td>No</td>\n",
              "    </tr>\n",
              "    <tr>\n",
              "      <th>381106</th>\n",
              "      <td>381107.0</td>\n",
              "      <td>Male</td>\n",
              "      <td>21.0</td>\n",
              "      <td>1.0</td>\n",
              "      <td>30.0</td>\n",
              "      <td>1.0</td>\n",
              "      <td>&lt; 1 Year</td>\n",
              "      <td>No</td>\n",
              "    </tr>\n",
              "    <tr>\n",
              "      <th>381107</th>\n",
              "      <td>381108.0</td>\n",
              "      <td>Female</td>\n",
              "      <td>68.0</td>\n",
              "      <td>1.0</td>\n",
              "      <td>14.0</td>\n",
              "      <td>0.0</td>\n",
              "      <td>&gt; 2 Years</td>\n",
              "      <td>Yes</td>\n",
              "    </tr>\n",
              "    <tr>\n",
              "      <th>381108</th>\n",
              "      <td>381109.0</td>\n",
              "      <td>Male</td>\n",
              "      <td>46.0</td>\n",
              "      <td>1.0</td>\n",
              "      <td>29.0</td>\n",
              "      <td>0.0</td>\n",
              "      <td>1-2 Year</td>\n",
              "      <td>No</td>\n",
              "    </tr>\n",
              "  </tbody>\n",
              "</table>\n",
              "<p>381109 rows × 8 columns</p>\n",
              "</div>"
            ],
            "text/plain": [
              "        customer_id  Gender   age  driving licence present  region code  \\\n",
              "0               1.0    Male  44.0                      1.0         28.0   \n",
              "1               2.0    Male  76.0                      1.0          3.0   \n",
              "2               3.0    Male  47.0                      1.0         28.0   \n",
              "3               4.0    Male  21.0                      1.0         11.0   \n",
              "4               5.0  Female  29.0                      1.0         41.0   \n",
              "...             ...     ...   ...                      ...          ...   \n",
              "381104     381105.0    Male  74.0                      1.0         26.0   \n",
              "381105     381106.0    Male  30.0                      1.0         37.0   \n",
              "381106     381107.0    Male  21.0                      1.0         30.0   \n",
              "381107     381108.0  Female  68.0                      1.0         14.0   \n",
              "381108     381109.0    Male  46.0                      1.0         29.0   \n",
              "\n",
              "        previously insured vehicle age vehicle damge  \n",
              "0                      0.0   > 2 Years           Yes  \n",
              "1                      0.0    1-2 Year            No  \n",
              "2                      0.0   > 2 Years           Yes  \n",
              "3                      1.0    < 1 Year            No  \n",
              "4                      1.0    < 1 Year            No  \n",
              "...                    ...         ...           ...  \n",
              "381104                 1.0    1-2 Year            No  \n",
              "381105                 1.0    < 1 Year            No  \n",
              "381106                 1.0    < 1 Year            No  \n",
              "381107                 0.0   > 2 Years           Yes  \n",
              "381108                 0.0    1-2 Year            No  \n",
              "\n",
              "[381109 rows x 8 columns]"
            ]
          },
          "execution_count": 6,
          "metadata": {},
          "output_type": "execute_result"
        }
      ],
      "source": [
        "df1"
      ]
    },
    {
      "cell_type": "markdown",
      "id": "ca981f46",
      "metadata": {
        "id": "ca981f46"
      },
      "source": [
        "## ii. Column Name for customer_policy table:\n",
        "\n",
        "###           customer_id,\n",
        "\n",
        "###           annual premium (in Rs),\n",
        "\n",
        "###           sales channel code,\n",
        "\n",
        "###           vintage and response."
      ]
    },
    {
      "cell_type": "code",
      "execution_count": null,
      "id": "6437b448",
      "metadata": {
        "id": "6437b448"
      },
      "outputs": [],
      "source": [
        "df2.columns = ['customer_id','annual premimum (in Rs)','sales channel code','vintage','response']"
      ]
    },
    {
      "cell_type": "code",
      "execution_count": null,
      "id": "faabf8dc",
      "metadata": {
        "id": "faabf8dc",
        "outputId": "3f58e4c1-2822-4cdc-c703-faf019da8d4a"
      },
      "outputs": [
        {
          "data": {
            "text/html": [
              "<div>\n",
              "<style scoped>\n",
              "    .dataframe tbody tr th:only-of-type {\n",
              "        vertical-align: middle;\n",
              "    }\n",
              "\n",
              "    .dataframe tbody tr th {\n",
              "        vertical-align: top;\n",
              "    }\n",
              "\n",
              "    .dataframe thead th {\n",
              "        text-align: right;\n",
              "    }\n",
              "</style>\n",
              "<table border=\"1\" class=\"dataframe\">\n",
              "  <thead>\n",
              "    <tr style=\"text-align: right;\">\n",
              "      <th></th>\n",
              "      <th>customer_id</th>\n",
              "      <th>annual premimum (in Rs)</th>\n",
              "      <th>sales channel code</th>\n",
              "      <th>vintage</th>\n",
              "      <th>response</th>\n",
              "    </tr>\n",
              "  </thead>\n",
              "  <tbody>\n",
              "    <tr>\n",
              "      <th>0</th>\n",
              "      <td>1.0</td>\n",
              "      <td>40454.0</td>\n",
              "      <td>26.0</td>\n",
              "      <td>217.0</td>\n",
              "      <td>1.0</td>\n",
              "    </tr>\n",
              "    <tr>\n",
              "      <th>1</th>\n",
              "      <td>2.0</td>\n",
              "      <td>33536.0</td>\n",
              "      <td>26.0</td>\n",
              "      <td>183.0</td>\n",
              "      <td>0.0</td>\n",
              "    </tr>\n",
              "    <tr>\n",
              "      <th>2</th>\n",
              "      <td>3.0</td>\n",
              "      <td>38294.0</td>\n",
              "      <td>26.0</td>\n",
              "      <td>27.0</td>\n",
              "      <td>1.0</td>\n",
              "    </tr>\n",
              "    <tr>\n",
              "      <th>3</th>\n",
              "      <td>4.0</td>\n",
              "      <td>28619.0</td>\n",
              "      <td>152.0</td>\n",
              "      <td>203.0</td>\n",
              "      <td>0.0</td>\n",
              "    </tr>\n",
              "    <tr>\n",
              "      <th>4</th>\n",
              "      <td>5.0</td>\n",
              "      <td>27496.0</td>\n",
              "      <td>152.0</td>\n",
              "      <td>39.0</td>\n",
              "      <td>0.0</td>\n",
              "    </tr>\n",
              "    <tr>\n",
              "      <th>...</th>\n",
              "      <td>...</td>\n",
              "      <td>...</td>\n",
              "      <td>...</td>\n",
              "      <td>...</td>\n",
              "      <td>...</td>\n",
              "    </tr>\n",
              "    <tr>\n",
              "      <th>381104</th>\n",
              "      <td>381105.0</td>\n",
              "      <td>30170.0</td>\n",
              "      <td>26.0</td>\n",
              "      <td>88.0</td>\n",
              "      <td>0.0</td>\n",
              "    </tr>\n",
              "    <tr>\n",
              "      <th>381105</th>\n",
              "      <td>381106.0</td>\n",
              "      <td>40016.0</td>\n",
              "      <td>152.0</td>\n",
              "      <td>131.0</td>\n",
              "      <td>0.0</td>\n",
              "    </tr>\n",
              "    <tr>\n",
              "      <th>381106</th>\n",
              "      <td>381107.0</td>\n",
              "      <td>35118.0</td>\n",
              "      <td>160.0</td>\n",
              "      <td>161.0</td>\n",
              "      <td>0.0</td>\n",
              "    </tr>\n",
              "    <tr>\n",
              "      <th>381107</th>\n",
              "      <td>381108.0</td>\n",
              "      <td>44617.0</td>\n",
              "      <td>124.0</td>\n",
              "      <td>74.0</td>\n",
              "      <td>0.0</td>\n",
              "    </tr>\n",
              "    <tr>\n",
              "      <th>381108</th>\n",
              "      <td>381109.0</td>\n",
              "      <td>41777.0</td>\n",
              "      <td>26.0</td>\n",
              "      <td>237.0</td>\n",
              "      <td>0.0</td>\n",
              "    </tr>\n",
              "  </tbody>\n",
              "</table>\n",
              "<p>381109 rows × 5 columns</p>\n",
              "</div>"
            ],
            "text/plain": [
              "        customer_id  annual premimum (in Rs)  sales channel code  vintage  \\\n",
              "0               1.0                  40454.0                26.0    217.0   \n",
              "1               2.0                  33536.0                26.0    183.0   \n",
              "2               3.0                  38294.0                26.0     27.0   \n",
              "3               4.0                  28619.0               152.0    203.0   \n",
              "4               5.0                  27496.0               152.0     39.0   \n",
              "...             ...                      ...                 ...      ...   \n",
              "381104     381105.0                  30170.0                26.0     88.0   \n",
              "381105     381106.0                  40016.0               152.0    131.0   \n",
              "381106     381107.0                  35118.0               160.0    161.0   \n",
              "381107     381108.0                  44617.0               124.0     74.0   \n",
              "381108     381109.0                  41777.0                26.0    237.0   \n",
              "\n",
              "        response  \n",
              "0            1.0  \n",
              "1            0.0  \n",
              "2            1.0  \n",
              "3            0.0  \n",
              "4            0.0  \n",
              "...          ...  \n",
              "381104       0.0  \n",
              "381105       0.0  \n",
              "381106       0.0  \n",
              "381107       0.0  \n",
              "381108       0.0  \n",
              "\n",
              "[381109 rows x 5 columns]"
            ]
          },
          "execution_count": 8,
          "metadata": {},
          "output_type": "execute_result"
        }
      ],
      "source": [
        "df2"
      ]
    },
    {
      "cell_type": "markdown",
      "id": "a49ab257",
      "metadata": {
        "id": "a49ab257"
      },
      "source": [
        "# 2. Checking and Cleaning Data Quality:\n",
        "\n",
        "## i. Null values\n",
        "\n",
        "### Generate a summary of count of all the null values column wise"
      ]
    },
    {
      "cell_type": "code",
      "execution_count": null,
      "id": "855f8500",
      "metadata": {
        "id": "855f8500",
        "outputId": "9e874e67-ff08-46b3-bf4e-2f4c00f29ac8"
      },
      "outputs": [
        {
          "data": {
            "text/html": [
              "<div>\n",
              "<style scoped>\n",
              "    .dataframe tbody tr th:only-of-type {\n",
              "        vertical-align: middle;\n",
              "    }\n",
              "\n",
              "    .dataframe tbody tr th {\n",
              "        vertical-align: top;\n",
              "    }\n",
              "\n",
              "    .dataframe thead th {\n",
              "        text-align: right;\n",
              "    }\n",
              "</style>\n",
              "<table border=\"1\" class=\"dataframe\">\n",
              "  <thead>\n",
              "    <tr style=\"text-align: right;\">\n",
              "      <th></th>\n",
              "      <th>customer_id</th>\n",
              "      <th>Gender</th>\n",
              "      <th>age</th>\n",
              "      <th>driving licence present</th>\n",
              "      <th>region code</th>\n",
              "      <th>previously insured</th>\n",
              "      <th>vehicle age</th>\n",
              "      <th>vehicle damge</th>\n",
              "    </tr>\n",
              "  </thead>\n",
              "  <tbody>\n",
              "    <tr>\n",
              "      <th>0</th>\n",
              "      <td>1.0</td>\n",
              "      <td>Male</td>\n",
              "      <td>44.0</td>\n",
              "      <td>1.0</td>\n",
              "      <td>28.0</td>\n",
              "      <td>0.0</td>\n",
              "      <td>&gt; 2 Years</td>\n",
              "      <td>Yes</td>\n",
              "    </tr>\n",
              "    <tr>\n",
              "      <th>1</th>\n",
              "      <td>2.0</td>\n",
              "      <td>Male</td>\n",
              "      <td>76.0</td>\n",
              "      <td>1.0</td>\n",
              "      <td>3.0</td>\n",
              "      <td>0.0</td>\n",
              "      <td>1-2 Year</td>\n",
              "      <td>No</td>\n",
              "    </tr>\n",
              "  </tbody>\n",
              "</table>\n",
              "</div>"
            ],
            "text/plain": [
              "   customer_id Gender   age  driving licence present  region code  \\\n",
              "0          1.0   Male  44.0                      1.0         28.0   \n",
              "1          2.0   Male  76.0                      1.0          3.0   \n",
              "\n",
              "   previously insured vehicle age vehicle damge  \n",
              "0                 0.0   > 2 Years           Yes  \n",
              "1                 0.0    1-2 Year            No  "
            ]
          },
          "execution_count": 9,
          "metadata": {},
          "output_type": "execute_result"
        }
      ],
      "source": [
        "df1.head(2)"
      ]
    },
    {
      "cell_type": "code",
      "execution_count": null,
      "id": "8550b687",
      "metadata": {
        "id": "8550b687",
        "outputId": "72185dc1-a6ef-4798-ecda-18a9d1416a9f"
      },
      "outputs": [
        {
          "data": {
            "text/plain": [
              "customer_id                386\n",
              "Gender                     368\n",
              "age                        368\n",
              "driving licence present    393\n",
              "region code                392\n",
              "previously insured         381\n",
              "vehicle age                381\n",
              "vehicle damge              407\n",
              "dtype: int64"
            ]
          },
          "execution_count": 10,
          "metadata": {},
          "output_type": "execute_result"
        }
      ],
      "source": [
        "df1.isnull().sum()"
      ]
    },
    {
      "cell_type": "code",
      "execution_count": null,
      "id": "6b3330a3",
      "metadata": {
        "id": "6b3330a3",
        "outputId": "1dde962c-11cd-4dcc-f980-e3585bed6fac"
      },
      "outputs": [
        {
          "data": {
            "text/plain": [
              "customer_id                387\n",
              "annual premimum (in Rs)    346\n",
              "sales channel code         400\n",
              "vintage                    388\n",
              "response                   361\n",
              "dtype: int64"
            ]
          },
          "execution_count": 11,
          "metadata": {},
          "output_type": "execute_result"
        }
      ],
      "source": [
        "df2.isnull().sum()"
      ]
    },
    {
      "cell_type": "markdown",
      "id": "7821ed83",
      "metadata": {
        "id": "7821ed83"
      },
      "source": [
        "### Drop Null values for customer_id because central tendencies for id’s is not feasible.\n"
      ]
    },
    {
      "cell_type": "code",
      "execution_count": null,
      "id": "a7b80c24",
      "metadata": {
        "id": "a7b80c24"
      },
      "outputs": [],
      "source": [
        "df1.dropna(subset=['customer_id'],inplace=True)"
      ]
    },
    {
      "cell_type": "code",
      "execution_count": null,
      "id": "2082f7eb",
      "metadata": {
        "id": "2082f7eb"
      },
      "outputs": [],
      "source": [
        "df2.dropna(subset=['customer_id'],inplace=True)"
      ]
    },
    {
      "cell_type": "markdown",
      "id": "8825ceca",
      "metadata": {
        "id": "8825ceca"
      },
      "source": [
        "### Replace all null values for numeric columns by mean."
      ]
    },
    {
      "cell_type": "code",
      "execution_count": null,
      "id": "654a8405",
      "metadata": {
        "id": "654a8405"
      },
      "outputs": [],
      "source": [
        "df1.age.fillna(df1.age.mean(),inplace = True)"
      ]
    },
    {
      "cell_type": "code",
      "execution_count": null,
      "id": "87e8d26c",
      "metadata": {
        "id": "87e8d26c"
      },
      "outputs": [],
      "source": [
        "df2['annual premimum (in Rs)'].fillna(df2['annual premimum (in Rs)'].mean(),inplace=True)"
      ]
    },
    {
      "cell_type": "markdown",
      "id": "e8cb8ef4",
      "metadata": {
        "id": "e8cb8ef4"
      },
      "source": [
        "### Replace all null values for Categorical value by mode.\n"
      ]
    },
    {
      "cell_type": "code",
      "execution_count": null,
      "id": "8b5316c6",
      "metadata": {
        "id": "8b5316c6",
        "outputId": "cedf5992-d164-43fd-ee9f-b5a22ff20932"
      },
      "outputs": [
        {
          "data": {
            "text/html": [
              "<div>\n",
              "<style scoped>\n",
              "    .dataframe tbody tr th:only-of-type {\n",
              "        vertical-align: middle;\n",
              "    }\n",
              "\n",
              "    .dataframe tbody tr th {\n",
              "        vertical-align: top;\n",
              "    }\n",
              "\n",
              "    .dataframe thead th {\n",
              "        text-align: right;\n",
              "    }\n",
              "</style>\n",
              "<table border=\"1\" class=\"dataframe\">\n",
              "  <thead>\n",
              "    <tr style=\"text-align: right;\">\n",
              "      <th></th>\n",
              "      <th>customer_id</th>\n",
              "      <th>Gender</th>\n",
              "      <th>age</th>\n",
              "      <th>driving licence present</th>\n",
              "      <th>region code</th>\n",
              "      <th>previously insured</th>\n",
              "      <th>vehicle age</th>\n",
              "      <th>vehicle damge</th>\n",
              "    </tr>\n",
              "  </thead>\n",
              "  <tbody>\n",
              "    <tr>\n",
              "      <th>0</th>\n",
              "      <td>1.0</td>\n",
              "      <td>Male</td>\n",
              "      <td>44.0</td>\n",
              "      <td>1.0</td>\n",
              "      <td>28.0</td>\n",
              "      <td>0.0</td>\n",
              "      <td>&gt; 2 Years</td>\n",
              "      <td>Yes</td>\n",
              "    </tr>\n",
              "    <tr>\n",
              "      <th>1</th>\n",
              "      <td>2.0</td>\n",
              "      <td>Male</td>\n",
              "      <td>76.0</td>\n",
              "      <td>1.0</td>\n",
              "      <td>3.0</td>\n",
              "      <td>0.0</td>\n",
              "      <td>1-2 Year</td>\n",
              "      <td>No</td>\n",
              "    </tr>\n",
              "    <tr>\n",
              "      <th>2</th>\n",
              "      <td>3.0</td>\n",
              "      <td>Male</td>\n",
              "      <td>47.0</td>\n",
              "      <td>1.0</td>\n",
              "      <td>28.0</td>\n",
              "      <td>0.0</td>\n",
              "      <td>&gt; 2 Years</td>\n",
              "      <td>Yes</td>\n",
              "    </tr>\n",
              "    <tr>\n",
              "      <th>3</th>\n",
              "      <td>4.0</td>\n",
              "      <td>Male</td>\n",
              "      <td>21.0</td>\n",
              "      <td>1.0</td>\n",
              "      <td>11.0</td>\n",
              "      <td>1.0</td>\n",
              "      <td>&lt; 1 Year</td>\n",
              "      <td>No</td>\n",
              "    </tr>\n",
              "    <tr>\n",
              "      <th>4</th>\n",
              "      <td>5.0</td>\n",
              "      <td>Female</td>\n",
              "      <td>29.0</td>\n",
              "      <td>1.0</td>\n",
              "      <td>41.0</td>\n",
              "      <td>1.0</td>\n",
              "      <td>&lt; 1 Year</td>\n",
              "      <td>No</td>\n",
              "    </tr>\n",
              "  </tbody>\n",
              "</table>\n",
              "</div>"
            ],
            "text/plain": [
              "   customer_id  Gender   age  driving licence present  region code  \\\n",
              "0          1.0    Male  44.0                      1.0         28.0   \n",
              "1          2.0    Male  76.0                      1.0          3.0   \n",
              "2          3.0    Male  47.0                      1.0         28.0   \n",
              "3          4.0    Male  21.0                      1.0         11.0   \n",
              "4          5.0  Female  29.0                      1.0         41.0   \n",
              "\n",
              "   previously insured vehicle age vehicle damge  \n",
              "0                 0.0   > 2 Years           Yes  \n",
              "1                 0.0    1-2 Year            No  \n",
              "2                 0.0   > 2 Years           Yes  \n",
              "3                 1.0    < 1 Year            No  \n",
              "4                 1.0    < 1 Year            No  "
            ]
          },
          "execution_count": 16,
          "metadata": {},
          "output_type": "execute_result"
        }
      ],
      "source": [
        "df1.head(5)"
      ]
    },
    {
      "cell_type": "code",
      "execution_count": null,
      "id": "f6002939",
      "metadata": {
        "id": "f6002939"
      },
      "outputs": [],
      "source": [
        "df1.Gender.fillna(df1.Gender.mode().iloc[0],inplace=True)"
      ]
    },
    {
      "cell_type": "code",
      "execution_count": null,
      "id": "0c573d01",
      "metadata": {
        "id": "0c573d01"
      },
      "outputs": [],
      "source": [
        "df1['driving licence present'].fillna(df1['driving licence present'].mode().iloc[0],inplace=True)"
      ]
    },
    {
      "cell_type": "code",
      "execution_count": null,
      "id": "eca4c48f",
      "metadata": {
        "id": "eca4c48f"
      },
      "outputs": [],
      "source": [
        "df1['region code'].fillna(df1['region code'].mode().iloc[0],inplace=True)"
      ]
    },
    {
      "cell_type": "code",
      "execution_count": null,
      "id": "57de20c7",
      "metadata": {
        "id": "57de20c7"
      },
      "outputs": [],
      "source": [
        "df1['previously insured'].fillna(df1['previously insured'].mode().iloc[0],inplace=True)"
      ]
    },
    {
      "cell_type": "code",
      "execution_count": null,
      "id": "ee94648b",
      "metadata": {
        "id": "ee94648b"
      },
      "outputs": [],
      "source": [
        "df1['vehicle age'].fillna(df1['vehicle age'].mode().iloc[0],inplace=True)"
      ]
    },
    {
      "cell_type": "code",
      "execution_count": null,
      "id": "e855d57d",
      "metadata": {
        "id": "e855d57d"
      },
      "outputs": [],
      "source": [
        "df1['vehicle damge'].fillna(df1['vehicle damge'].mode().iloc[0],inplace=True)"
      ]
    },
    {
      "cell_type": "code",
      "execution_count": null,
      "id": "f374a7d7",
      "metadata": {
        "id": "f374a7d7",
        "outputId": "94b0f822-d05a-4254-89c7-a4c201aa8929"
      },
      "outputs": [
        {
          "data": {
            "text/plain": [
              "customer_id                0\n",
              "Gender                     0\n",
              "age                        0\n",
              "driving licence present    0\n",
              "region code                0\n",
              "previously insured         0\n",
              "vehicle age                0\n",
              "vehicle damge              0\n",
              "dtype: int64"
            ]
          },
          "execution_count": 23,
          "metadata": {},
          "output_type": "execute_result"
        }
      ],
      "source": [
        "df1.isnull().sum()"
      ]
    },
    {
      "cell_type": "code",
      "execution_count": null,
      "id": "47f572db",
      "metadata": {
        "id": "47f572db",
        "outputId": "daf90a79-ab9f-4e68-bbea-20cfa5f11c60"
      },
      "outputs": [
        {
          "data": {
            "text/html": [
              "<div>\n",
              "<style scoped>\n",
              "    .dataframe tbody tr th:only-of-type {\n",
              "        vertical-align: middle;\n",
              "    }\n",
              "\n",
              "    .dataframe tbody tr th {\n",
              "        vertical-align: top;\n",
              "    }\n",
              "\n",
              "    .dataframe thead th {\n",
              "        text-align: right;\n",
              "    }\n",
              "</style>\n",
              "<table border=\"1\" class=\"dataframe\">\n",
              "  <thead>\n",
              "    <tr style=\"text-align: right;\">\n",
              "      <th></th>\n",
              "      <th>customer_id</th>\n",
              "      <th>annual premimum (in Rs)</th>\n",
              "      <th>sales channel code</th>\n",
              "      <th>vintage</th>\n",
              "      <th>response</th>\n",
              "    </tr>\n",
              "  </thead>\n",
              "  <tbody>\n",
              "    <tr>\n",
              "      <th>0</th>\n",
              "      <td>1.0</td>\n",
              "      <td>40454.0</td>\n",
              "      <td>26.0</td>\n",
              "      <td>217.0</td>\n",
              "      <td>1.0</td>\n",
              "    </tr>\n",
              "    <tr>\n",
              "      <th>1</th>\n",
              "      <td>2.0</td>\n",
              "      <td>33536.0</td>\n",
              "      <td>26.0</td>\n",
              "      <td>183.0</td>\n",
              "      <td>0.0</td>\n",
              "    </tr>\n",
              "    <tr>\n",
              "      <th>2</th>\n",
              "      <td>3.0</td>\n",
              "      <td>38294.0</td>\n",
              "      <td>26.0</td>\n",
              "      <td>27.0</td>\n",
              "      <td>1.0</td>\n",
              "    </tr>\n",
              "    <tr>\n",
              "      <th>3</th>\n",
              "      <td>4.0</td>\n",
              "      <td>28619.0</td>\n",
              "      <td>152.0</td>\n",
              "      <td>203.0</td>\n",
              "      <td>0.0</td>\n",
              "    </tr>\n",
              "    <tr>\n",
              "      <th>4</th>\n",
              "      <td>5.0</td>\n",
              "      <td>27496.0</td>\n",
              "      <td>152.0</td>\n",
              "      <td>39.0</td>\n",
              "      <td>0.0</td>\n",
              "    </tr>\n",
              "  </tbody>\n",
              "</table>\n",
              "</div>"
            ],
            "text/plain": [
              "   customer_id  annual premimum (in Rs)  sales channel code  vintage  response\n",
              "0          1.0                  40454.0                26.0    217.0       1.0\n",
              "1          2.0                  33536.0                26.0    183.0       0.0\n",
              "2          3.0                  38294.0                26.0     27.0       1.0\n",
              "3          4.0                  28619.0               152.0    203.0       0.0\n",
              "4          5.0                  27496.0               152.0     39.0       0.0"
            ]
          },
          "execution_count": 24,
          "metadata": {},
          "output_type": "execute_result"
        }
      ],
      "source": [
        "df2.head(5)"
      ]
    },
    {
      "cell_type": "code",
      "execution_count": null,
      "id": "9eb31fd0",
      "metadata": {
        "id": "9eb31fd0"
      },
      "outputs": [],
      "source": [
        "df2['sales channel code'].fillna(df2['sales channel code'].mode().iloc[0],inplace=True)"
      ]
    },
    {
      "cell_type": "code",
      "execution_count": null,
      "id": "ca8b1413",
      "metadata": {
        "id": "ca8b1413"
      },
      "outputs": [],
      "source": [
        "df2['vintage'].fillna(df2['vintage'].mode().iloc[0],inplace=True)"
      ]
    },
    {
      "cell_type": "code",
      "execution_count": null,
      "id": "e290961a",
      "metadata": {
        "id": "e290961a"
      },
      "outputs": [],
      "source": [
        "df2['response'].fillna(df2['response'].mode().iloc[0],inplace=True)"
      ]
    },
    {
      "cell_type": "code",
      "execution_count": null,
      "id": "e66e7fec",
      "metadata": {
        "id": "e66e7fec",
        "outputId": "a279280e-bd17-4ab3-d695-7e5d10692d94"
      },
      "outputs": [
        {
          "data": {
            "text/plain": [
              "customer_id                0\n",
              "annual premimum (in Rs)    0\n",
              "sales channel code         0\n",
              "vintage                    0\n",
              "response                   0\n",
              "dtype: int64"
            ]
          },
          "execution_count": 28,
          "metadata": {},
          "output_type": "execute_result"
        }
      ],
      "source": [
        "df2.isnull().sum()"
      ]
    },
    {
      "cell_type": "markdown",
      "id": "45b1d775",
      "metadata": {
        "id": "45b1d775"
      },
      "source": [
        "## ii. Outliers\n",
        "\n",
        "### Generate a summary of count of all the outliers column wise"
      ]
    },
    {
      "cell_type": "code",
      "execution_count": null,
      "id": "1ef982da",
      "metadata": {
        "id": "1ef982da",
        "outputId": "a5baf378-d209-42b4-db97-75bf7e77944d"
      },
      "outputs": [
        {
          "data": {
            "text/html": [
              "<div>\n",
              "<style scoped>\n",
              "    .dataframe tbody tr th:only-of-type {\n",
              "        vertical-align: middle;\n",
              "    }\n",
              "\n",
              "    .dataframe tbody tr th {\n",
              "        vertical-align: top;\n",
              "    }\n",
              "\n",
              "    .dataframe thead th {\n",
              "        text-align: right;\n",
              "    }\n",
              "</style>\n",
              "<table border=\"1\" class=\"dataframe\">\n",
              "  <thead>\n",
              "    <tr style=\"text-align: right;\">\n",
              "      <th></th>\n",
              "      <th>customer_id</th>\n",
              "      <th>Gender</th>\n",
              "      <th>age</th>\n",
              "      <th>driving licence present</th>\n",
              "      <th>region code</th>\n",
              "      <th>previously insured</th>\n",
              "      <th>vehicle age</th>\n",
              "      <th>vehicle damge</th>\n",
              "    </tr>\n",
              "  </thead>\n",
              "  <tbody>\n",
              "    <tr>\n",
              "      <th>0</th>\n",
              "      <td>1.0</td>\n",
              "      <td>Male</td>\n",
              "      <td>44.0</td>\n",
              "      <td>1.0</td>\n",
              "      <td>28.0</td>\n",
              "      <td>0.0</td>\n",
              "      <td>&gt; 2 Years</td>\n",
              "      <td>Yes</td>\n",
              "    </tr>\n",
              "    <tr>\n",
              "      <th>1</th>\n",
              "      <td>2.0</td>\n",
              "      <td>Male</td>\n",
              "      <td>76.0</td>\n",
              "      <td>1.0</td>\n",
              "      <td>3.0</td>\n",
              "      <td>0.0</td>\n",
              "      <td>1-2 Year</td>\n",
              "      <td>No</td>\n",
              "    </tr>\n",
              "    <tr>\n",
              "      <th>2</th>\n",
              "      <td>3.0</td>\n",
              "      <td>Male</td>\n",
              "      <td>47.0</td>\n",
              "      <td>1.0</td>\n",
              "      <td>28.0</td>\n",
              "      <td>0.0</td>\n",
              "      <td>&gt; 2 Years</td>\n",
              "      <td>Yes</td>\n",
              "    </tr>\n",
              "    <tr>\n",
              "      <th>3</th>\n",
              "      <td>4.0</td>\n",
              "      <td>Male</td>\n",
              "      <td>21.0</td>\n",
              "      <td>1.0</td>\n",
              "      <td>11.0</td>\n",
              "      <td>1.0</td>\n",
              "      <td>&lt; 1 Year</td>\n",
              "      <td>No</td>\n",
              "    </tr>\n",
              "    <tr>\n",
              "      <th>4</th>\n",
              "      <td>5.0</td>\n",
              "      <td>Female</td>\n",
              "      <td>29.0</td>\n",
              "      <td>1.0</td>\n",
              "      <td>41.0</td>\n",
              "      <td>1.0</td>\n",
              "      <td>&lt; 1 Year</td>\n",
              "      <td>No</td>\n",
              "    </tr>\n",
              "  </tbody>\n",
              "</table>\n",
              "</div>"
            ],
            "text/plain": [
              "   customer_id  Gender   age  driving licence present  region code  \\\n",
              "0          1.0    Male  44.0                      1.0         28.0   \n",
              "1          2.0    Male  76.0                      1.0          3.0   \n",
              "2          3.0    Male  47.0                      1.0         28.0   \n",
              "3          4.0    Male  21.0                      1.0         11.0   \n",
              "4          5.0  Female  29.0                      1.0         41.0   \n",
              "\n",
              "   previously insured vehicle age vehicle damge  \n",
              "0                 0.0   > 2 Years           Yes  \n",
              "1                 0.0    1-2 Year            No  \n",
              "2                 0.0   > 2 Years           Yes  \n",
              "3                 1.0    < 1 Year            No  \n",
              "4                 1.0    < 1 Year            No  "
            ]
          },
          "execution_count": 29,
          "metadata": {},
          "output_type": "execute_result"
        }
      ],
      "source": [
        "df1.head(5)"
      ]
    },
    {
      "cell_type": "code",
      "execution_count": null,
      "id": "2b884052",
      "metadata": {
        "id": "2b884052",
        "outputId": "9effad5a-aec2-4a48-d3a8-8e398a7961d6"
      },
      "outputs": [
        {
          "data": {
            "text/plain": [
              "count    380723.000000\n",
              "mean         38.822788\n",
              "std          15.504826\n",
              "min          20.000000\n",
              "25%          25.000000\n",
              "50%          36.000000\n",
              "75%          49.000000\n",
              "max          85.000000\n",
              "Name: age, dtype: float64"
            ]
          },
          "execution_count": 30,
          "metadata": {},
          "output_type": "execute_result"
        }
      ],
      "source": [
        "df1['age'].describe()"
      ]
    },
    {
      "cell_type": "code",
      "execution_count": null,
      "id": "cf64dc16",
      "metadata": {
        "id": "cf64dc16",
        "outputId": "9a2d5cf1-4103-4582-bc56-1d02acd3a6ce"
      },
      "outputs": [
        {
          "data": {
            "text/plain": [
              "0"
            ]
          },
          "execution_count": 31,
          "metadata": {},
          "output_type": "execute_result"
        }
      ],
      "source": [
        "# for age\n",
        "Q1=df1['age'].describe().iloc[4]\n",
        "Q3=df1['age'].describe().iloc[6]\n",
        "\n",
        "IQR = Q3-Q1\n",
        "\n",
        "lower_limit = Q1-1.5*IQR\n",
        "upper_limit = Q3+1.5*IQR\n",
        "\n",
        "df1[(df1['age'] > upper_limit) | (df1['age'] < lower_limit)].count().sum()"
      ]
    },
    {
      "cell_type": "code",
      "execution_count": null,
      "id": "ecbd0f9e",
      "metadata": {
        "id": "ecbd0f9e",
        "outputId": "041a4dd5-627b-4294-a266-5f88c031058a"
      },
      "outputs": [
        {
          "data": {
            "text/plain": [
              "0"
            ]
          },
          "execution_count": 32,
          "metadata": {},
          "output_type": "execute_result"
        }
      ],
      "source": [
        "# for region code\n",
        "Q1=df1['region code'].describe().iloc[4]\n",
        "Q3=df1['region code'].describe().iloc[6]\n",
        "\n",
        "IQR = Q3-Q1\n",
        "\n",
        "lower_limit = Q1-1.5*IQR\n",
        "upper_limit = Q3+1.5*IQR\n",
        "\n",
        "df1[(df1['region code'] > upper_limit) | (df1['region code'] < lower_limit)].count().sum()\n"
      ]
    },
    {
      "cell_type": "code",
      "execution_count": null,
      "id": "addf6098",
      "metadata": {
        "id": "addf6098",
        "outputId": "ecc3985a-b106-452f-bd5c-dff7dd715c8c"
      },
      "outputs": [
        {
          "data": {
            "text/html": [
              "<div>\n",
              "<style scoped>\n",
              "    .dataframe tbody tr th:only-of-type {\n",
              "        vertical-align: middle;\n",
              "    }\n",
              "\n",
              "    .dataframe tbody tr th {\n",
              "        vertical-align: top;\n",
              "    }\n",
              "\n",
              "    .dataframe thead th {\n",
              "        text-align: right;\n",
              "    }\n",
              "</style>\n",
              "<table border=\"1\" class=\"dataframe\">\n",
              "  <thead>\n",
              "    <tr style=\"text-align: right;\">\n",
              "      <th></th>\n",
              "      <th>customer_id</th>\n",
              "      <th>annual premimum (in Rs)</th>\n",
              "      <th>sales channel code</th>\n",
              "      <th>vintage</th>\n",
              "      <th>response</th>\n",
              "    </tr>\n",
              "  </thead>\n",
              "  <tbody>\n",
              "    <tr>\n",
              "      <th>0</th>\n",
              "      <td>1.0</td>\n",
              "      <td>40454.0</td>\n",
              "      <td>26.0</td>\n",
              "      <td>217.0</td>\n",
              "      <td>1.0</td>\n",
              "    </tr>\n",
              "    <tr>\n",
              "      <th>1</th>\n",
              "      <td>2.0</td>\n",
              "      <td>33536.0</td>\n",
              "      <td>26.0</td>\n",
              "      <td>183.0</td>\n",
              "      <td>0.0</td>\n",
              "    </tr>\n",
              "    <tr>\n",
              "      <th>2</th>\n",
              "      <td>3.0</td>\n",
              "      <td>38294.0</td>\n",
              "      <td>26.0</td>\n",
              "      <td>27.0</td>\n",
              "      <td>1.0</td>\n",
              "    </tr>\n",
              "    <tr>\n",
              "      <th>3</th>\n",
              "      <td>4.0</td>\n",
              "      <td>28619.0</td>\n",
              "      <td>152.0</td>\n",
              "      <td>203.0</td>\n",
              "      <td>0.0</td>\n",
              "    </tr>\n",
              "    <tr>\n",
              "      <th>4</th>\n",
              "      <td>5.0</td>\n",
              "      <td>27496.0</td>\n",
              "      <td>152.0</td>\n",
              "      <td>39.0</td>\n",
              "      <td>0.0</td>\n",
              "    </tr>\n",
              "  </tbody>\n",
              "</table>\n",
              "</div>"
            ],
            "text/plain": [
              "   customer_id  annual premimum (in Rs)  sales channel code  vintage  response\n",
              "0          1.0                  40454.0                26.0    217.0       1.0\n",
              "1          2.0                  33536.0                26.0    183.0       0.0\n",
              "2          3.0                  38294.0                26.0     27.0       1.0\n",
              "3          4.0                  28619.0               152.0    203.0       0.0\n",
              "4          5.0                  27496.0               152.0     39.0       0.0"
            ]
          },
          "execution_count": 33,
          "metadata": {},
          "output_type": "execute_result"
        }
      ],
      "source": [
        "df2.head(5)"
      ]
    },
    {
      "cell_type": "code",
      "execution_count": null,
      "id": "ff6ed0b2",
      "metadata": {
        "id": "ff6ed0b2",
        "outputId": "4302b1c6-c84c-4c7a-c6ab-61701ec6c7ff"
      },
      "outputs": [
        {
          "data": {
            "text/plain": [
              "51660"
            ]
          },
          "execution_count": 34,
          "metadata": {},
          "output_type": "execute_result"
        }
      ],
      "source": [
        "# for annual premimum (in Rs)\n",
        "Q1=df2['annual premimum (in Rs)'].describe().iloc[4]\n",
        "Q3=df2['annual premimum (in Rs)'].describe().iloc[6]\n",
        "\n",
        "IQR = Q3-Q1\n",
        "\n",
        "lower_limit = Q1-1.5*IQR\n",
        "upper_limit = Q3+1.5*IQR\n",
        "\n",
        "df2[(df2['annual premimum (in Rs)'] > upper_limit) | (df2['annual premimum (in Rs)'] < lower_limit)].count().sum()\n"
      ]
    },
    {
      "cell_type": "code",
      "execution_count": null,
      "id": "ee813b1b",
      "metadata": {
        "id": "ee813b1b",
        "outputId": "25802216-d918-4877-aa94-c3419e9d5e23"
      },
      "outputs": [
        {
          "data": {
            "text/plain": [
              "0"
            ]
          },
          "execution_count": 35,
          "metadata": {},
          "output_type": "execute_result"
        }
      ],
      "source": [
        "# for sales channel code\n",
        "Q1=df2['sales channel code'].describe().iloc[4]\n",
        "Q3=df2['sales channel code'].describe().iloc[6]\n",
        "\n",
        "IQR = Q3-Q1\n",
        "\n",
        "lower_limit = Q1-1.5*IQR\n",
        "upper_limit = Q3+1.5*IQR\n",
        "\n",
        "df2[(df2['sales channel code'] > upper_limit) | (df2['sales channel code'] < lower_limit)].count().sum()\n"
      ]
    },
    {
      "cell_type": "code",
      "execution_count": null,
      "id": "c918a7f5",
      "metadata": {
        "id": "c918a7f5",
        "outputId": "9e800b1e-b684-4985-b24f-67c91e2e1964"
      },
      "outputs": [
        {
          "data": {
            "text/plain": [
              "0"
            ]
          },
          "execution_count": 36,
          "metadata": {},
          "output_type": "execute_result"
        }
      ],
      "source": [
        "# for vintage\n",
        "Q1=df2['vintage'].describe().iloc[4]\n",
        "Q3=df2['vintage'].describe().iloc[6]\n",
        "\n",
        "IQR = Q3-Q1\n",
        "\n",
        "lower_limit = Q1-1.5*IQR\n",
        "upper_limit = Q3+1.5*IQR\n",
        "\n",
        "df2[(df2['vintage'] > upper_limit) | (df2['vintage'] < lower_limit)].count().sum()\n"
      ]
    },
    {
      "cell_type": "markdown",
      "id": "6db26226",
      "metadata": {
        "id": "6db26226"
      },
      "source": [
        "### Replace all outlier values for numeric columns by mean.\n",
        "\n"
      ]
    },
    {
      "cell_type": "code",
      "execution_count": null,
      "id": "8ff51152",
      "metadata": {
        "id": "8ff51152"
      },
      "outputs": [],
      "source": [
        "# only in customer policy details we have outliers for annual premimum (in Rs) column\n",
        "\n",
        "# for annual premimum (in Rs)\n",
        "Q1=df2['annual premimum (in Rs)'].describe().iloc[4]\n",
        "Q3=df2['annual premimum (in Rs)'].describe().iloc[6]\n",
        "\n",
        "IQR = Q3-Q1\n",
        "\n",
        "lower_limit = Q1-1.5*IQR\n",
        "upper_limit = Q3+1.5*IQR\n",
        "\n",
        "mean = df2['annual premimum (in Rs)'][(df2['annual premimum (in Rs)'] <= upper_limit) & (df2['annual premimum (in Rs)'] >= lower_limit)].mean()\n",
        "\n",
        "df2.loc[(df2['annual premimum (in Rs)'] > upper_limit) | (df2['annual premimum (in Rs)'] < lower_limit),'annual premimum (in Rs)'] = mean"
      ]
    },
    {
      "cell_type": "markdown",
      "id": "6089a022",
      "metadata": {
        "id": "6089a022"
      },
      "source": [
        "## iii. White spaces\n",
        "\n",
        "### Remove white spaces"
      ]
    },
    {
      "cell_type": "code",
      "execution_count": null,
      "id": "85bc36ff",
      "metadata": {
        "id": "85bc36ff",
        "outputId": "f714a085-3c62-4fa3-ac8d-639febeec7d4"
      },
      "outputs": [
        {
          "data": {
            "text/plain": [
              "Index(['customer_id', 'Gender', 'age', 'driving licence present',\n",
              "       'region code', 'previously insured', 'vehicle age', 'vehicle damge'],\n",
              "      dtype='object')"
            ]
          },
          "execution_count": 42,
          "metadata": {},
          "output_type": "execute_result"
        }
      ],
      "source": [
        "df1.columns"
      ]
    },
    {
      "cell_type": "code",
      "execution_count": null,
      "id": "3c3d59bf",
      "metadata": {
        "id": "3c3d59bf",
        "outputId": "fd5eb3d7-d033-4bdf-b32a-f74a15de6875"
      },
      "outputs": [
        {
          "data": {
            "text/plain": [
              "Index(['customer_id', 'annual premimum (in Rs)', 'sales channel code',\n",
              "       'vintage', 'response'],\n",
              "      dtype='object')"
            ]
          },
          "execution_count": 43,
          "metadata": {},
          "output_type": "execute_result"
        }
      ],
      "source": [
        "df2.columns"
      ]
    },
    {
      "cell_type": "code",
      "execution_count": null,
      "id": "ed2ab64d",
      "metadata": {
        "id": "ed2ab64d"
      },
      "outputs": [],
      "source": [
        "df1 = df1.applymap(lambda x: x.strip() if isinstance(x, str) else x)\n"
      ]
    },
    {
      "cell_type": "code",
      "execution_count": null,
      "id": "b31aebbc",
      "metadata": {
        "id": "b31aebbc"
      },
      "outputs": [],
      "source": [
        "df2 = df2.applymap(lambda x: x.strip() if isinstance(x, str) else x)\n"
      ]
    },
    {
      "cell_type": "markdown",
      "id": "8558d945",
      "metadata": {
        "id": "8558d945"
      },
      "source": [
        "### iv. case correction(lower or upper, any one)"
      ]
    },
    {
      "cell_type": "code",
      "execution_count": null,
      "id": "7732842b",
      "metadata": {
        "id": "7732842b"
      },
      "outputs": [],
      "source": [
        "# converting into lower case\n",
        "\n",
        "df1 = df1.apply(lambda x: x.str.lower() if x.dtype == 'object' else x)\n"
      ]
    },
    {
      "cell_type": "code",
      "execution_count": null,
      "id": "b94428b5",
      "metadata": {
        "id": "b94428b5",
        "outputId": "46cd9c3f-1429-46de-c79e-e55f9058edd0"
      },
      "outputs": [
        {
          "data": {
            "text/html": [
              "<div>\n",
              "<style scoped>\n",
              "    .dataframe tbody tr th:only-of-type {\n",
              "        vertical-align: middle;\n",
              "    }\n",
              "\n",
              "    .dataframe tbody tr th {\n",
              "        vertical-align: top;\n",
              "    }\n",
              "\n",
              "    .dataframe thead th {\n",
              "        text-align: right;\n",
              "    }\n",
              "</style>\n",
              "<table border=\"1\" class=\"dataframe\">\n",
              "  <thead>\n",
              "    <tr style=\"text-align: right;\">\n",
              "      <th></th>\n",
              "      <th>customer_id</th>\n",
              "      <th>Gender</th>\n",
              "      <th>age</th>\n",
              "      <th>driving licence present</th>\n",
              "      <th>region code</th>\n",
              "      <th>previously insured</th>\n",
              "      <th>vehicle age</th>\n",
              "      <th>vehicle damge</th>\n",
              "    </tr>\n",
              "  </thead>\n",
              "  <tbody>\n",
              "    <tr>\n",
              "      <th>0</th>\n",
              "      <td>1.0</td>\n",
              "      <td>male</td>\n",
              "      <td>44.0</td>\n",
              "      <td>1.0</td>\n",
              "      <td>28.0</td>\n",
              "      <td>0.0</td>\n",
              "      <td>&gt; 2 years</td>\n",
              "      <td>yes</td>\n",
              "    </tr>\n",
              "    <tr>\n",
              "      <th>1</th>\n",
              "      <td>2.0</td>\n",
              "      <td>male</td>\n",
              "      <td>76.0</td>\n",
              "      <td>1.0</td>\n",
              "      <td>3.0</td>\n",
              "      <td>0.0</td>\n",
              "      <td>1-2 year</td>\n",
              "      <td>no</td>\n",
              "    </tr>\n",
              "  </tbody>\n",
              "</table>\n",
              "</div>"
            ],
            "text/plain": [
              "   customer_id Gender   age  driving licence present  region code  \\\n",
              "0          1.0   male  44.0                      1.0         28.0   \n",
              "1          2.0   male  76.0                      1.0          3.0   \n",
              "\n",
              "   previously insured vehicle age vehicle damge  \n",
              "0                 0.0   > 2 years           yes  \n",
              "1                 0.0    1-2 year            no  "
            ]
          },
          "execution_count": 47,
          "metadata": {},
          "output_type": "execute_result"
        }
      ],
      "source": [
        "df1.head(2)"
      ]
    },
    {
      "cell_type": "code",
      "execution_count": null,
      "id": "6d141506",
      "metadata": {
        "id": "6d141506"
      },
      "outputs": [],
      "source": [
        "\n",
        "df2 = df2.apply(lambda x: x.str.lower() if x.dtype == 'object' else x)\n"
      ]
    },
    {
      "cell_type": "code",
      "execution_count": null,
      "id": "eb80d6c8",
      "metadata": {
        "id": "eb80d6c8",
        "outputId": "1836bdfd-5af0-4a64-bc30-c38ed5a85d3b"
      },
      "outputs": [
        {
          "data": {
            "text/html": [
              "<div>\n",
              "<style scoped>\n",
              "    .dataframe tbody tr th:only-of-type {\n",
              "        vertical-align: middle;\n",
              "    }\n",
              "\n",
              "    .dataframe tbody tr th {\n",
              "        vertical-align: top;\n",
              "    }\n",
              "\n",
              "    .dataframe thead th {\n",
              "        text-align: right;\n",
              "    }\n",
              "</style>\n",
              "<table border=\"1\" class=\"dataframe\">\n",
              "  <thead>\n",
              "    <tr style=\"text-align: right;\">\n",
              "      <th></th>\n",
              "      <th>customer_id</th>\n",
              "      <th>annual premimum (in Rs)</th>\n",
              "      <th>sales channel code</th>\n",
              "      <th>vintage</th>\n",
              "      <th>response</th>\n",
              "    </tr>\n",
              "  </thead>\n",
              "  <tbody>\n",
              "    <tr>\n",
              "      <th>0</th>\n",
              "      <td>1.0</td>\n",
              "      <td>40454.0</td>\n",
              "      <td>26.0</td>\n",
              "      <td>217.0</td>\n",
              "      <td>1.0</td>\n",
              "    </tr>\n",
              "    <tr>\n",
              "      <th>1</th>\n",
              "      <td>2.0</td>\n",
              "      <td>33536.0</td>\n",
              "      <td>26.0</td>\n",
              "      <td>183.0</td>\n",
              "      <td>0.0</td>\n",
              "    </tr>\n",
              "  </tbody>\n",
              "</table>\n",
              "</div>"
            ],
            "text/plain": [
              "   customer_id  annual premimum (in Rs)  sales channel code  vintage  response\n",
              "0          1.0                  40454.0                26.0    217.0       1.0\n",
              "1          2.0                  33536.0                26.0    183.0       0.0"
            ]
          },
          "execution_count": 49,
          "metadata": {},
          "output_type": "execute_result"
        }
      ],
      "source": [
        "df2.head(2)"
      ]
    },
    {
      "cell_type": "markdown",
      "id": "e14d9c01",
      "metadata": {
        "id": "e14d9c01"
      },
      "source": [
        "### v. Convert nominal data (categorical) into dummies\n",
        "\n",
        "##### for future modeling use if required"
      ]
    },
    {
      "cell_type": "code",
      "execution_count": null,
      "id": "6306b1c0",
      "metadata": {
        "id": "6306b1c0"
      },
      "outputs": [],
      "source": [
        "df1_dummies = pd.get_dummies(df1[['Gender','vehicle age','vehicle damge']],prefix=['gender','age','damge'])"
      ]
    },
    {
      "cell_type": "code",
      "execution_count": null,
      "id": "d0641725",
      "metadata": {
        "id": "d0641725"
      },
      "outputs": [],
      "source": [
        "df1 = pd.concat([df1,df1_dummies],axis=1)"
      ]
    },
    {
      "cell_type": "code",
      "execution_count": null,
      "id": "772c61a6",
      "metadata": {
        "id": "772c61a6",
        "outputId": "9d44cd4a-763c-4184-8b13-ef14a1150537"
      },
      "outputs": [
        {
          "data": {
            "text/html": [
              "<div>\n",
              "<style scoped>\n",
              "    .dataframe tbody tr th:only-of-type {\n",
              "        vertical-align: middle;\n",
              "    }\n",
              "\n",
              "    .dataframe tbody tr th {\n",
              "        vertical-align: top;\n",
              "    }\n",
              "\n",
              "    .dataframe thead th {\n",
              "        text-align: right;\n",
              "    }\n",
              "</style>\n",
              "<table border=\"1\" class=\"dataframe\">\n",
              "  <thead>\n",
              "    <tr style=\"text-align: right;\">\n",
              "      <th></th>\n",
              "      <th>customer_id</th>\n",
              "      <th>Gender</th>\n",
              "      <th>age</th>\n",
              "      <th>driving licence present</th>\n",
              "      <th>region code</th>\n",
              "      <th>previously insured</th>\n",
              "      <th>vehicle age</th>\n",
              "      <th>vehicle damge</th>\n",
              "      <th>gender_female</th>\n",
              "      <th>gender_male</th>\n",
              "      <th>age_1-2 year</th>\n",
              "      <th>age_&lt; 1 year</th>\n",
              "      <th>age_&gt; 2 years</th>\n",
              "      <th>damge_no</th>\n",
              "      <th>damge_yes</th>\n",
              "    </tr>\n",
              "  </thead>\n",
              "  <tbody>\n",
              "    <tr>\n",
              "      <th>0</th>\n",
              "      <td>1.0</td>\n",
              "      <td>male</td>\n",
              "      <td>44.0</td>\n",
              "      <td>1.0</td>\n",
              "      <td>28.0</td>\n",
              "      <td>0.0</td>\n",
              "      <td>&gt; 2 years</td>\n",
              "      <td>yes</td>\n",
              "      <td>0</td>\n",
              "      <td>1</td>\n",
              "      <td>0</td>\n",
              "      <td>0</td>\n",
              "      <td>1</td>\n",
              "      <td>0</td>\n",
              "      <td>1</td>\n",
              "    </tr>\n",
              "    <tr>\n",
              "      <th>1</th>\n",
              "      <td>2.0</td>\n",
              "      <td>male</td>\n",
              "      <td>76.0</td>\n",
              "      <td>1.0</td>\n",
              "      <td>3.0</td>\n",
              "      <td>0.0</td>\n",
              "      <td>1-2 year</td>\n",
              "      <td>no</td>\n",
              "      <td>0</td>\n",
              "      <td>1</td>\n",
              "      <td>1</td>\n",
              "      <td>0</td>\n",
              "      <td>0</td>\n",
              "      <td>1</td>\n",
              "      <td>0</td>\n",
              "    </tr>\n",
              "  </tbody>\n",
              "</table>\n",
              "</div>"
            ],
            "text/plain": [
              "   customer_id Gender   age  driving licence present  region code  \\\n",
              "0          1.0   male  44.0                      1.0         28.0   \n",
              "1          2.0   male  76.0                      1.0          3.0   \n",
              "\n",
              "   previously insured vehicle age vehicle damge  gender_female  gender_male  \\\n",
              "0                 0.0   > 2 years           yes              0            1   \n",
              "1                 0.0    1-2 year            no              0            1   \n",
              "\n",
              "   age_1-2 year  age_< 1 year  age_> 2 years  damge_no  damge_yes  \n",
              "0             0             0              1         0          1  \n",
              "1             1             0              0         1          0  "
            ]
          },
          "execution_count": 53,
          "metadata": {},
          "output_type": "execute_result"
        }
      ],
      "source": [
        "df1.head(2)"
      ]
    },
    {
      "cell_type": "code",
      "execution_count": null,
      "id": "854b0677",
      "metadata": {
        "id": "854b0677"
      },
      "outputs": [],
      "source": [
        "df1=df1.drop(['Gender','vehicle age','vehicle damge'],axis=1)"
      ]
    },
    {
      "cell_type": "code",
      "execution_count": null,
      "id": "16e82c04",
      "metadata": {
        "id": "16e82c04",
        "outputId": "7263b68a-6b54-4cea-8c5d-6df046b2a5e6"
      },
      "outputs": [
        {
          "data": {
            "text/html": [
              "<div>\n",
              "<style scoped>\n",
              "    .dataframe tbody tr th:only-of-type {\n",
              "        vertical-align: middle;\n",
              "    }\n",
              "\n",
              "    .dataframe tbody tr th {\n",
              "        vertical-align: top;\n",
              "    }\n",
              "\n",
              "    .dataframe thead th {\n",
              "        text-align: right;\n",
              "    }\n",
              "</style>\n",
              "<table border=\"1\" class=\"dataframe\">\n",
              "  <thead>\n",
              "    <tr style=\"text-align: right;\">\n",
              "      <th></th>\n",
              "      <th>customer_id</th>\n",
              "      <th>age</th>\n",
              "      <th>driving licence present</th>\n",
              "      <th>region code</th>\n",
              "      <th>previously insured</th>\n",
              "      <th>gender_female</th>\n",
              "      <th>gender_male</th>\n",
              "      <th>age_1-2 year</th>\n",
              "      <th>age_&lt; 1 year</th>\n",
              "      <th>age_&gt; 2 years</th>\n",
              "      <th>damge_no</th>\n",
              "      <th>damge_yes</th>\n",
              "    </tr>\n",
              "  </thead>\n",
              "  <tbody>\n",
              "    <tr>\n",
              "      <th>0</th>\n",
              "      <td>1.0</td>\n",
              "      <td>44.0</td>\n",
              "      <td>1.0</td>\n",
              "      <td>28.0</td>\n",
              "      <td>0.0</td>\n",
              "      <td>0</td>\n",
              "      <td>1</td>\n",
              "      <td>0</td>\n",
              "      <td>0</td>\n",
              "      <td>1</td>\n",
              "      <td>0</td>\n",
              "      <td>1</td>\n",
              "    </tr>\n",
              "    <tr>\n",
              "      <th>1</th>\n",
              "      <td>2.0</td>\n",
              "      <td>76.0</td>\n",
              "      <td>1.0</td>\n",
              "      <td>3.0</td>\n",
              "      <td>0.0</td>\n",
              "      <td>0</td>\n",
              "      <td>1</td>\n",
              "      <td>1</td>\n",
              "      <td>0</td>\n",
              "      <td>0</td>\n",
              "      <td>1</td>\n",
              "      <td>0</td>\n",
              "    </tr>\n",
              "  </tbody>\n",
              "</table>\n",
              "</div>"
            ],
            "text/plain": [
              "   customer_id   age  driving licence present  region code  \\\n",
              "0          1.0  44.0                      1.0         28.0   \n",
              "1          2.0  76.0                      1.0          3.0   \n",
              "\n",
              "   previously insured  gender_female  gender_male  age_1-2 year  age_< 1 year  \\\n",
              "0                 0.0              0            1             0             0   \n",
              "1                 0.0              0            1             1             0   \n",
              "\n",
              "   age_> 2 years  damge_no  damge_yes  \n",
              "0              1         0          1  \n",
              "1              0         1          0  "
            ]
          },
          "execution_count": 55,
          "metadata": {},
          "output_type": "execute_result"
        }
      ],
      "source": [
        "df1.head(2)"
      ]
    },
    {
      "cell_type": "code",
      "execution_count": null,
      "id": "ee13722f",
      "metadata": {
        "id": "ee13722f"
      },
      "outputs": [],
      "source": [
        "# There is no categorical data in df2"
      ]
    },
    {
      "cell_type": "markdown",
      "id": "198d5622",
      "metadata": {
        "id": "198d5622"
      },
      "source": [
        "### vi. Drop Duplicates (duplicated rows)"
      ]
    },
    {
      "cell_type": "code",
      "execution_count": null,
      "id": "f523200a",
      "metadata": {
        "id": "f523200a",
        "outputId": "85a775e2-8032-43fc-f51b-06d03476c875"
      },
      "outputs": [
        {
          "data": {
            "text/plain": [
              "False    380723\n",
              "dtype: int64"
            ]
          },
          "execution_count": 59,
          "metadata": {},
          "output_type": "execute_result"
        }
      ],
      "source": [
        "df1.duplicated().value_counts() # So there is no duplicated in df1"
      ]
    },
    {
      "cell_type": "code",
      "execution_count": null,
      "id": "e1acd278",
      "metadata": {
        "id": "e1acd278",
        "outputId": "d57257da-ca68-46aa-c4eb-95e39691f673"
      },
      "outputs": [
        {
          "data": {
            "text/plain": [
              "False    380722\n",
              "dtype: int64"
            ]
          },
          "execution_count": 60,
          "metadata": {},
          "output_type": "execute_result"
        }
      ],
      "source": [
        "df2.duplicated().value_counts() #  so there is no duplicated in df2"
      ]
    },
    {
      "cell_type": "markdown",
      "id": "aac1b168",
      "metadata": {
        "id": "aac1b168"
      },
      "source": [
        "## 3. Create a Master table for future use. Join the customer table and customer_policy table to get a master table using customer_id in both tables.\n",
        "\n",
        "(Hint: use pd.merge() function)"
      ]
    },
    {
      "cell_type": "code",
      "execution_count": null,
      "id": "dd07b080",
      "metadata": {
        "id": "dd07b080"
      },
      "outputs": [],
      "source": [
        "df = pd.merge(df1,df2,on='customer_id')"
      ]
    },
    {
      "cell_type": "code",
      "execution_count": null,
      "id": "4d156cee",
      "metadata": {
        "id": "4d156cee",
        "outputId": "488cce1f-64a9-4acd-be47-22b0c4309faf"
      },
      "outputs": [
        {
          "data": {
            "text/html": [
              "<div>\n",
              "<style scoped>\n",
              "    .dataframe tbody tr th:only-of-type {\n",
              "        vertical-align: middle;\n",
              "    }\n",
              "\n",
              "    .dataframe tbody tr th {\n",
              "        vertical-align: top;\n",
              "    }\n",
              "\n",
              "    .dataframe thead th {\n",
              "        text-align: right;\n",
              "    }\n",
              "</style>\n",
              "<table border=\"1\" class=\"dataframe\">\n",
              "  <thead>\n",
              "    <tr style=\"text-align: right;\">\n",
              "      <th></th>\n",
              "      <th>customer_id</th>\n",
              "      <th>age</th>\n",
              "      <th>driving licence present</th>\n",
              "      <th>region code</th>\n",
              "      <th>previously insured</th>\n",
              "      <th>gender_female</th>\n",
              "      <th>gender_male</th>\n",
              "      <th>age_1-2 year</th>\n",
              "      <th>age_&lt; 1 year</th>\n",
              "      <th>age_&gt; 2 years</th>\n",
              "      <th>damge_no</th>\n",
              "      <th>damge_yes</th>\n",
              "      <th>annual premimum (in Rs)</th>\n",
              "      <th>sales channel code</th>\n",
              "      <th>vintage</th>\n",
              "      <th>response</th>\n",
              "    </tr>\n",
              "  </thead>\n",
              "  <tbody>\n",
              "    <tr>\n",
              "      <th>0</th>\n",
              "      <td>1.0</td>\n",
              "      <td>44.0</td>\n",
              "      <td>1.0</td>\n",
              "      <td>28.0</td>\n",
              "      <td>0.0</td>\n",
              "      <td>0</td>\n",
              "      <td>1</td>\n",
              "      <td>0</td>\n",
              "      <td>0</td>\n",
              "      <td>1</td>\n",
              "      <td>0</td>\n",
              "      <td>1</td>\n",
              "      <td>40454.0</td>\n",
              "      <td>26.0</td>\n",
              "      <td>217.0</td>\n",
              "      <td>1.0</td>\n",
              "    </tr>\n",
              "    <tr>\n",
              "      <th>1</th>\n",
              "      <td>2.0</td>\n",
              "      <td>76.0</td>\n",
              "      <td>1.0</td>\n",
              "      <td>3.0</td>\n",
              "      <td>0.0</td>\n",
              "      <td>0</td>\n",
              "      <td>1</td>\n",
              "      <td>1</td>\n",
              "      <td>0</td>\n",
              "      <td>0</td>\n",
              "      <td>1</td>\n",
              "      <td>0</td>\n",
              "      <td>33536.0</td>\n",
              "      <td>26.0</td>\n",
              "      <td>183.0</td>\n",
              "      <td>0.0</td>\n",
              "    </tr>\n",
              "    <tr>\n",
              "      <th>2</th>\n",
              "      <td>3.0</td>\n",
              "      <td>47.0</td>\n",
              "      <td>1.0</td>\n",
              "      <td>28.0</td>\n",
              "      <td>0.0</td>\n",
              "      <td>0</td>\n",
              "      <td>1</td>\n",
              "      <td>0</td>\n",
              "      <td>0</td>\n",
              "      <td>1</td>\n",
              "      <td>0</td>\n",
              "      <td>1</td>\n",
              "      <td>38294.0</td>\n",
              "      <td>26.0</td>\n",
              "      <td>27.0</td>\n",
              "      <td>1.0</td>\n",
              "    </tr>\n",
              "    <tr>\n",
              "      <th>3</th>\n",
              "      <td>4.0</td>\n",
              "      <td>21.0</td>\n",
              "      <td>1.0</td>\n",
              "      <td>11.0</td>\n",
              "      <td>1.0</td>\n",
              "      <td>0</td>\n",
              "      <td>1</td>\n",
              "      <td>0</td>\n",
              "      <td>1</td>\n",
              "      <td>0</td>\n",
              "      <td>1</td>\n",
              "      <td>0</td>\n",
              "      <td>28619.0</td>\n",
              "      <td>152.0</td>\n",
              "      <td>203.0</td>\n",
              "      <td>0.0</td>\n",
              "    </tr>\n",
              "    <tr>\n",
              "      <th>4</th>\n",
              "      <td>5.0</td>\n",
              "      <td>29.0</td>\n",
              "      <td>1.0</td>\n",
              "      <td>41.0</td>\n",
              "      <td>1.0</td>\n",
              "      <td>1</td>\n",
              "      <td>0</td>\n",
              "      <td>0</td>\n",
              "      <td>1</td>\n",
              "      <td>0</td>\n",
              "      <td>1</td>\n",
              "      <td>0</td>\n",
              "      <td>27496.0</td>\n",
              "      <td>152.0</td>\n",
              "      <td>39.0</td>\n",
              "      <td>0.0</td>\n",
              "    </tr>\n",
              "    <tr>\n",
              "      <th>...</th>\n",
              "      <td>...</td>\n",
              "      <td>...</td>\n",
              "      <td>...</td>\n",
              "      <td>...</td>\n",
              "      <td>...</td>\n",
              "      <td>...</td>\n",
              "      <td>...</td>\n",
              "      <td>...</td>\n",
              "      <td>...</td>\n",
              "      <td>...</td>\n",
              "      <td>...</td>\n",
              "      <td>...</td>\n",
              "      <td>...</td>\n",
              "      <td>...</td>\n",
              "      <td>...</td>\n",
              "      <td>...</td>\n",
              "    </tr>\n",
              "    <tr>\n",
              "      <th>380331</th>\n",
              "      <td>381105.0</td>\n",
              "      <td>74.0</td>\n",
              "      <td>1.0</td>\n",
              "      <td>26.0</td>\n",
              "      <td>1.0</td>\n",
              "      <td>0</td>\n",
              "      <td>1</td>\n",
              "      <td>1</td>\n",
              "      <td>0</td>\n",
              "      <td>0</td>\n",
              "      <td>1</td>\n",
              "      <td>0</td>\n",
              "      <td>30170.0</td>\n",
              "      <td>26.0</td>\n",
              "      <td>88.0</td>\n",
              "      <td>0.0</td>\n",
              "    </tr>\n",
              "    <tr>\n",
              "      <th>380332</th>\n",
              "      <td>381106.0</td>\n",
              "      <td>30.0</td>\n",
              "      <td>1.0</td>\n",
              "      <td>37.0</td>\n",
              "      <td>1.0</td>\n",
              "      <td>0</td>\n",
              "      <td>1</td>\n",
              "      <td>0</td>\n",
              "      <td>1</td>\n",
              "      <td>0</td>\n",
              "      <td>1</td>\n",
              "      <td>0</td>\n",
              "      <td>40016.0</td>\n",
              "      <td>152.0</td>\n",
              "      <td>131.0</td>\n",
              "      <td>0.0</td>\n",
              "    </tr>\n",
              "    <tr>\n",
              "      <th>380333</th>\n",
              "      <td>381107.0</td>\n",
              "      <td>21.0</td>\n",
              "      <td>1.0</td>\n",
              "      <td>30.0</td>\n",
              "      <td>1.0</td>\n",
              "      <td>0</td>\n",
              "      <td>1</td>\n",
              "      <td>0</td>\n",
              "      <td>1</td>\n",
              "      <td>0</td>\n",
              "      <td>1</td>\n",
              "      <td>0</td>\n",
              "      <td>35118.0</td>\n",
              "      <td>160.0</td>\n",
              "      <td>161.0</td>\n",
              "      <td>0.0</td>\n",
              "    </tr>\n",
              "    <tr>\n",
              "      <th>380334</th>\n",
              "      <td>381108.0</td>\n",
              "      <td>68.0</td>\n",
              "      <td>1.0</td>\n",
              "      <td>14.0</td>\n",
              "      <td>0.0</td>\n",
              "      <td>1</td>\n",
              "      <td>0</td>\n",
              "      <td>0</td>\n",
              "      <td>0</td>\n",
              "      <td>1</td>\n",
              "      <td>0</td>\n",
              "      <td>1</td>\n",
              "      <td>44617.0</td>\n",
              "      <td>124.0</td>\n",
              "      <td>74.0</td>\n",
              "      <td>0.0</td>\n",
              "    </tr>\n",
              "    <tr>\n",
              "      <th>380335</th>\n",
              "      <td>381109.0</td>\n",
              "      <td>46.0</td>\n",
              "      <td>1.0</td>\n",
              "      <td>29.0</td>\n",
              "      <td>0.0</td>\n",
              "      <td>0</td>\n",
              "      <td>1</td>\n",
              "      <td>1</td>\n",
              "      <td>0</td>\n",
              "      <td>0</td>\n",
              "      <td>1</td>\n",
              "      <td>0</td>\n",
              "      <td>41777.0</td>\n",
              "      <td>26.0</td>\n",
              "      <td>237.0</td>\n",
              "      <td>0.0</td>\n",
              "    </tr>\n",
              "  </tbody>\n",
              "</table>\n",
              "<p>380336 rows × 16 columns</p>\n",
              "</div>"
            ],
            "text/plain": [
              "        customer_id   age  driving licence present  region code  \\\n",
              "0               1.0  44.0                      1.0         28.0   \n",
              "1               2.0  76.0                      1.0          3.0   \n",
              "2               3.0  47.0                      1.0         28.0   \n",
              "3               4.0  21.0                      1.0         11.0   \n",
              "4               5.0  29.0                      1.0         41.0   \n",
              "...             ...   ...                      ...          ...   \n",
              "380331     381105.0  74.0                      1.0         26.0   \n",
              "380332     381106.0  30.0                      1.0         37.0   \n",
              "380333     381107.0  21.0                      1.0         30.0   \n",
              "380334     381108.0  68.0                      1.0         14.0   \n",
              "380335     381109.0  46.0                      1.0         29.0   \n",
              "\n",
              "        previously insured  gender_female  gender_male  age_1-2 year  \\\n",
              "0                      0.0              0            1             0   \n",
              "1                      0.0              0            1             1   \n",
              "2                      0.0              0            1             0   \n",
              "3                      1.0              0            1             0   \n",
              "4                      1.0              1            0             0   \n",
              "...                    ...            ...          ...           ...   \n",
              "380331                 1.0              0            1             1   \n",
              "380332                 1.0              0            1             0   \n",
              "380333                 1.0              0            1             0   \n",
              "380334                 0.0              1            0             0   \n",
              "380335                 0.0              0            1             1   \n",
              "\n",
              "        age_< 1 year  age_> 2 years  damge_no  damge_yes  \\\n",
              "0                  0              1         0          1   \n",
              "1                  0              0         1          0   \n",
              "2                  0              1         0          1   \n",
              "3                  1              0         1          0   \n",
              "4                  1              0         1          0   \n",
              "...              ...            ...       ...        ...   \n",
              "380331             0              0         1          0   \n",
              "380332             1              0         1          0   \n",
              "380333             1              0         1          0   \n",
              "380334             0              1         0          1   \n",
              "380335             0              0         1          0   \n",
              "\n",
              "        annual premimum (in Rs)  sales channel code  vintage  response  \n",
              "0                       40454.0                26.0    217.0       1.0  \n",
              "1                       33536.0                26.0    183.0       0.0  \n",
              "2                       38294.0                26.0     27.0       1.0  \n",
              "3                       28619.0               152.0    203.0       0.0  \n",
              "4                       27496.0               152.0     39.0       0.0  \n",
              "...                         ...                 ...      ...       ...  \n",
              "380331                  30170.0                26.0     88.0       0.0  \n",
              "380332                  40016.0               152.0    131.0       0.0  \n",
              "380333                  35118.0               160.0    161.0       0.0  \n",
              "380334                  44617.0               124.0     74.0       0.0  \n",
              "380335                  41777.0                26.0    237.0       0.0  \n",
              "\n",
              "[380336 rows x 16 columns]"
            ]
          },
          "execution_count": 62,
          "metadata": {},
          "output_type": "execute_result"
        }
      ],
      "source": [
        "df"
      ]
    },
    {
      "cell_type": "markdown",
      "id": "9dcb9895",
      "metadata": {
        "id": "9dcb9895"
      },
      "source": [
        "## 4. Company needs some important information from the master table to make decisions for future growth.They needs following information:\n",
        "\n",
        "### i. Gender wise average annual premium"
      ]
    },
    {
      "cell_type": "code",
      "execution_count": null,
      "id": "8120c952",
      "metadata": {
        "id": "8120c952",
        "outputId": "452d5eec-43f9-4d9d-8397-8f1ce642d76b"
      },
      "outputs": [
        {
          "data": {
            "text/html": [
              "<div>\n",
              "<style scoped>\n",
              "    .dataframe tbody tr th:only-of-type {\n",
              "        vertical-align: middle;\n",
              "    }\n",
              "\n",
              "    .dataframe tbody tr th {\n",
              "        vertical-align: top;\n",
              "    }\n",
              "\n",
              "    .dataframe thead th {\n",
              "        text-align: right;\n",
              "    }\n",
              "</style>\n",
              "<table border=\"1\" class=\"dataframe\">\n",
              "  <thead>\n",
              "    <tr style=\"text-align: right;\">\n",
              "      <th></th>\n",
              "      <th>customer_id</th>\n",
              "      <th>age</th>\n",
              "      <th>driving licence present</th>\n",
              "      <th>region code</th>\n",
              "      <th>previously insured</th>\n",
              "      <th>gender_female</th>\n",
              "      <th>gender_male</th>\n",
              "      <th>age_1-2 year</th>\n",
              "      <th>age_&lt; 1 year</th>\n",
              "      <th>age_&gt; 2 years</th>\n",
              "      <th>damge_no</th>\n",
              "      <th>damge_yes</th>\n",
              "      <th>annual premimum (in Rs)</th>\n",
              "      <th>sales channel code</th>\n",
              "      <th>vintage</th>\n",
              "      <th>response</th>\n",
              "    </tr>\n",
              "  </thead>\n",
              "  <tbody>\n",
              "    <tr>\n",
              "      <th>0</th>\n",
              "      <td>1.0</td>\n",
              "      <td>44.0</td>\n",
              "      <td>1.0</td>\n",
              "      <td>28.0</td>\n",
              "      <td>0.0</td>\n",
              "      <td>0</td>\n",
              "      <td>1</td>\n",
              "      <td>0</td>\n",
              "      <td>0</td>\n",
              "      <td>1</td>\n",
              "      <td>0</td>\n",
              "      <td>1</td>\n",
              "      <td>40454.0</td>\n",
              "      <td>26.0</td>\n",
              "      <td>217.0</td>\n",
              "      <td>1.0</td>\n",
              "    </tr>\n",
              "    <tr>\n",
              "      <th>1</th>\n",
              "      <td>2.0</td>\n",
              "      <td>76.0</td>\n",
              "      <td>1.0</td>\n",
              "      <td>3.0</td>\n",
              "      <td>0.0</td>\n",
              "      <td>0</td>\n",
              "      <td>1</td>\n",
              "      <td>1</td>\n",
              "      <td>0</td>\n",
              "      <td>0</td>\n",
              "      <td>1</td>\n",
              "      <td>0</td>\n",
              "      <td>33536.0</td>\n",
              "      <td>26.0</td>\n",
              "      <td>183.0</td>\n",
              "      <td>0.0</td>\n",
              "    </tr>\n",
              "  </tbody>\n",
              "</table>\n",
              "</div>"
            ],
            "text/plain": [
              "   customer_id   age  driving licence present  region code  \\\n",
              "0          1.0  44.0                      1.0         28.0   \n",
              "1          2.0  76.0                      1.0          3.0   \n",
              "\n",
              "   previously insured  gender_female  gender_male  age_1-2 year  age_< 1 year  \\\n",
              "0                 0.0              0            1             0             0   \n",
              "1                 0.0              0            1             1             0   \n",
              "\n",
              "   age_> 2 years  damge_no  damge_yes  annual premimum (in Rs)  \\\n",
              "0              1         0          1                  40454.0   \n",
              "1              0         1          0                  33536.0   \n",
              "\n",
              "   sales channel code  vintage  response  \n",
              "0                26.0    217.0       1.0  \n",
              "1                26.0    183.0       0.0  "
            ]
          },
          "execution_count": 67,
          "metadata": {},
          "output_type": "execute_result"
        }
      ],
      "source": [
        "df.head(2)"
      ]
    },
    {
      "cell_type": "code",
      "execution_count": null,
      "id": "028f97ed",
      "metadata": {
        "id": "028f97ed",
        "outputId": "d2ce2ad3-bb27-48b9-adb2-caaeff7b8456"
      },
      "outputs": [
        {
          "name": "stdout",
          "output_type": "stream",
          "text": [
            "Avg annual premium in males is : 29286.654235619575\n",
            "Avg annual premim in females is : 29239.624914862074\n"
          ]
        }
      ],
      "source": [
        "Avg_male=df.groupby('gender_male').mean()['annual premimum (in Rs)'].loc[1]\n",
        "Avg_female = df.groupby('gender_male').mean()['annual premimum (in Rs)'].loc[0]\n",
        "\n",
        "print('Avg annual premium in males is :',Avg_male)\n",
        "print('Avg annual premim in females is :',Avg_female)\n"
      ]
    },
    {
      "cell_type": "markdown",
      "id": "e1a5c53c",
      "metadata": {
        "id": "e1a5c53c"
      },
      "source": [
        "### ii. Age wise average annual premium"
      ]
    },
    {
      "cell_type": "code",
      "execution_count": null,
      "id": "ca0b624d",
      "metadata": {
        "id": "ca0b624d",
        "outputId": "819a665e-8f5f-427c-9463-bf7baa1c8f6c"
      },
      "outputs": [
        {
          "data": {
            "text/html": [
              "<div>\n",
              "<style scoped>\n",
              "    .dataframe tbody tr th:only-of-type {\n",
              "        vertical-align: middle;\n",
              "    }\n",
              "\n",
              "    .dataframe tbody tr th {\n",
              "        vertical-align: top;\n",
              "    }\n",
              "\n",
              "    .dataframe thead th {\n",
              "        text-align: right;\n",
              "    }\n",
              "</style>\n",
              "<table border=\"1\" class=\"dataframe\">\n",
              "  <thead>\n",
              "    <tr style=\"text-align: right;\">\n",
              "      <th></th>\n",
              "      <th>customer_id</th>\n",
              "      <th>age</th>\n",
              "      <th>driving licence present</th>\n",
              "      <th>region code</th>\n",
              "      <th>previously insured</th>\n",
              "      <th>gender_female</th>\n",
              "      <th>gender_male</th>\n",
              "      <th>age_1-2 year</th>\n",
              "      <th>age_&lt; 1 year</th>\n",
              "      <th>age_&gt; 2 years</th>\n",
              "      <th>damge_no</th>\n",
              "      <th>damge_yes</th>\n",
              "      <th>annual premimum (in Rs)</th>\n",
              "      <th>sales channel code</th>\n",
              "      <th>vintage</th>\n",
              "      <th>response</th>\n",
              "    </tr>\n",
              "  </thead>\n",
              "  <tbody>\n",
              "    <tr>\n",
              "      <th>0</th>\n",
              "      <td>1.0</td>\n",
              "      <td>44.0</td>\n",
              "      <td>1.0</td>\n",
              "      <td>28.0</td>\n",
              "      <td>0.0</td>\n",
              "      <td>0</td>\n",
              "      <td>1</td>\n",
              "      <td>0</td>\n",
              "      <td>0</td>\n",
              "      <td>1</td>\n",
              "      <td>0</td>\n",
              "      <td>1</td>\n",
              "      <td>40454.0</td>\n",
              "      <td>26.0</td>\n",
              "      <td>217.0</td>\n",
              "      <td>1.0</td>\n",
              "    </tr>\n",
              "  </tbody>\n",
              "</table>\n",
              "</div>"
            ],
            "text/plain": [
              "   customer_id   age  driving licence present  region code  \\\n",
              "0          1.0  44.0                      1.0         28.0   \n",
              "\n",
              "   previously insured  gender_female  gender_male  age_1-2 year  age_< 1 year  \\\n",
              "0                 0.0              0            1             0             0   \n",
              "\n",
              "   age_> 2 years  damge_no  damge_yes  annual premimum (in Rs)  \\\n",
              "0              1         0          1                  40454.0   \n",
              "\n",
              "   sales channel code  vintage  response  \n",
              "0                26.0    217.0       1.0  "
            ]
          },
          "execution_count": 92,
          "metadata": {},
          "output_type": "execute_result"
        }
      ],
      "source": [
        "df.head(1)"
      ]
    },
    {
      "cell_type": "code",
      "execution_count": null,
      "id": "cf5a9d61",
      "metadata": {
        "id": "cf5a9d61",
        "outputId": "fb839c31-7ee8-492a-bf09-10e96ad371d6"
      },
      "outputs": [
        {
          "data": {
            "text/plain": [
              "age\n",
              "20.0    26324.927126\n",
              "21.0    29728.666412\n",
              "22.0    29922.466484\n",
              "23.0    29814.386179\n",
              "24.0    30097.536802\n",
              "            ...     \n",
              "81.0    29218.279627\n",
              "82.0    36435.766196\n",
              "83.0    28936.737259\n",
              "84.0    35440.818182\n",
              "85.0    26519.292700\n",
              "Name: annual premimum (in Rs), Length: 67, dtype: float64"
            ]
          },
          "execution_count": 99,
          "metadata": {},
          "output_type": "execute_result"
        }
      ],
      "source": [
        "df.groupby('age').mean()['annual premimum (in Rs)']"
      ]
    },
    {
      "cell_type": "markdown",
      "id": "e6db1643",
      "metadata": {
        "id": "e6db1643"
      },
      "source": [
        "### iii. Is your data balanced between the genders?\n",
        "\n",
        "          (Hint: Data is balanced if number of counts in each group is approximately same)"
      ]
    },
    {
      "cell_type": "code",
      "execution_count": null,
      "id": "8a0d7db4",
      "metadata": {
        "id": "8a0d7db4",
        "outputId": "00adf236-64fb-4533-9a7e-38537dd0733c"
      },
      "outputs": [
        {
          "data": {
            "text/plain": [
              "1    205851\n",
              "0    174485\n",
              "Name: gender_male, dtype: int64"
            ]
          },
          "execution_count": 100,
          "metadata": {},
          "output_type": "execute_result"
        }
      ],
      "source": [
        "df['gender_male'].value_counts()"
      ]
    },
    {
      "cell_type": "code",
      "execution_count": null,
      "id": "6b2e125b",
      "metadata": {
        "id": "6b2e125b",
        "outputId": "5acd7305-edd0-48c1-9582-8321c17c5ebf"
      },
      "outputs": [
        {
          "data": {
            "text/plain": [
              "0    205851\n",
              "1    174485\n",
              "Name: gender_female, dtype: int64"
            ]
          },
          "execution_count": 101,
          "metadata": {},
          "output_type": "execute_result"
        }
      ],
      "source": [
        "df['gender_female'].value_counts()"
      ]
    },
    {
      "cell_type": "code",
      "execution_count": null,
      "id": "88c20747",
      "metadata": {
        "id": "88c20747"
      },
      "outputs": [],
      "source": [
        "# Yes data is balanced between the genders"
      ]
    },
    {
      "cell_type": "markdown",
      "id": "15d2ba8f",
      "metadata": {
        "id": "15d2ba8f"
      },
      "source": [
        "### iv. Vehicle age wise average annual premium."
      ]
    },
    {
      "cell_type": "code",
      "execution_count": null,
      "id": "2144c643",
      "metadata": {
        "id": "2144c643",
        "outputId": "2b75ad37-7b73-46ee-f905-f9967127f8ed"
      },
      "outputs": [
        {
          "data": {
            "text/plain": [
              "age_< 1 year  age_1-2 year  age_> 2 years\n",
              "0             0             1                32863.929198\n",
              "              1             0                29062.337122\n",
              "1             0             0                29162.582810\n",
              "Name: annual premimum (in Rs), dtype: float64"
            ]
          },
          "execution_count": 110,
          "metadata": {},
          "output_type": "execute_result"
        }
      ],
      "source": [
        "df.groupby(['age_< 1 year','age_1-2 year','age_> 2 years'],).mean()['annual premimum (in Rs)']"
      ]
    },
    {
      "cell_type": "markdown",
      "id": "7602de33",
      "metadata": {
        "id": "7602de33"
      },
      "source": [
        "## 5. Is there any relation between Person Age and annual premium?\n",
        "\n",
        "Hint: use correlation function (Correlation describes the relationship between two variables).\n",
        "\n",
        "Correlation coefficient < -0.5           - Strong negative relationship\n",
        "\n",
        "Correlation coefficient > 0.5            -  Strong positive relationship\n",
        "\n",
        "0.5 < Correlation coefficient < 0.5   - There is no relationship."
      ]
    },
    {
      "cell_type": "code",
      "execution_count": null,
      "id": "b077e485",
      "metadata": {
        "id": "b077e485",
        "outputId": "e40b9019-5306-467e-bd81-0d47070cb89a"
      },
      "outputs": [
        {
          "data": {
            "text/plain": [
              "0.049805831054697394"
            ]
          },
          "execution_count": 118,
          "metadata": {},
          "output_type": "execute_result"
        }
      ],
      "source": [
        "df['annual premimum (in Rs)'].corr(df['age'])"
      ]
    },
    {
      "cell_type": "code",
      "execution_count": null,
      "id": "9fe80553",
      "metadata": {
        "id": "9fe80553"
      },
      "outputs": [],
      "source": [
        "# corrlation of person age and annual premium is 0.04 so, where will no relationship b/w this two columns"
      ]
    },
    {
      "cell_type": "code",
      "execution_count": null,
      "id": "fc561a44",
      "metadata": {
        "id": "fc561a44"
      },
      "outputs": [],
      "source": []
    }
  ],
  "metadata": {
    "kernelspec": {
      "display_name": "Python 3 (ipykernel)",
      "language": "python",
      "name": "python3"
    },
    "language_info": {
      "codemirror_mode": {
        "name": "ipython",
        "version": 3
      },
      "file_extension": ".py",
      "mimetype": "text/x-python",
      "name": "python",
      "nbconvert_exporter": "python",
      "pygments_lexer": "ipython3",
      "version": "3.9.12"
    },
    "colab": {
      "provenance": []
    }
  },
  "nbformat": 4,
  "nbformat_minor": 5
}